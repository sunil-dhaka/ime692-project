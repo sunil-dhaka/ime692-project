{
 "cells": [
  {
   "cell_type": "code",
   "execution_count": 2,
   "metadata": {},
   "outputs": [
    {
     "name": "stderr",
     "output_type": "stream",
     "text": [
      "/home/sunild/.local/lib/python3.8/site-packages/matplotlib_inline/config.py:66: DeprecationWarning: InlineBackend._figure_formats_changed is deprecated in traitlets 4.1: use @observe and @unobserve instead.\n",
      "  def _figure_formats_changed(self, name, old, new):\n"
     ]
    }
   ],
   "source": [
    "import numpy as np\n",
    "import pandas as pd\n",
    "from sklearn.linear_model import LinearRegression\n",
    "\n",
    "%matplotlib inline "
   ]
  },
  {
   "cell_type": "code",
   "execution_count": 3,
   "metadata": {},
   "outputs": [
    {
     "name": "stdout",
     "output_type": "stream",
     "text": [
      "==========================================\n",
      "No of testing observations:  225\n",
      "No of training observations:  531\n",
      "==========================================\n"
     ]
    }
   ],
   "source": [
    "data=pd.read_csv('ime692_project.csv')\n",
    "# avoid State and Count name\n",
    "cols=data.columns[2:].to_list()\n",
    "data=data[cols]\n",
    "# seperate data into test and train based on `Test` indicator\n",
    "pd.options.mode.chained_assignment = None  # default='warn' --> to supress chain assignment warning <--\n",
    "test_data=data.loc[data.Test==1] ## previous indices could be useful ##\n",
    "train_data=data.loc[data.Test==0]\n",
    "print(\"==========================================\")\n",
    "print(\"No of testing observations: \",test_data.shape[0])\n",
    "print(\"No of training observations: \",train_data.shape[0])\n",
    "print(\"==========================================\")\n",
    "\n",
    "# drop the indicator inplace\n",
    "test_data.drop('Test',axis=1,inplace=True)\n",
    "train_data.drop('Test',axis=1,inplace=True)\n",
    "\n",
    "# sepearate predicted and regressor variables\n",
    "y_test_data=test_data['CvdVax_DisparityY'].tolist()\n",
    "X_test_data=test_data.drop('CvdVax_DisparityY',axis=1)\n",
    "y_train_data=train_data['CvdVax_DisparityY'].tolist()\n",
    "X_train_data=train_data.drop('CvdVax_DisparityY',axis=1)\n"
   ]
  },
  {
   "cell_type": "code",
   "execution_count": 4,
   "metadata": {},
   "outputs": [],
   "source": [
    "from sklearn.preprocessing import StandardScaler\n",
    "scalerInst=StandardScaler()\n",
    "X_train_data_normalized=scalerInst.fit_transform(X_train_data)\n",
    "X_test_data_normalized=scalerInst.fit_transform(X_test_data)"
   ]
  },
  {
   "cell_type": "code",
   "execution_count": 5,
   "metadata": {},
   "outputs": [
    {
     "name": "stdout",
     "output_type": "stream",
     "text": [
      "R2 >>> 0.3605625338226661\n"
     ]
    }
   ],
   "source": [
    "from sklearn.linear_model import LinearRegression\n",
    "lm=LinearRegression()\n",
    "lm.fit(X_train_data_normalized,y_train_data)\n",
    "print('R2 >>>',lm.score(X_test_data_normalized,y_test_data))"
   ]
  },
  {
   "cell_type": "code",
   "execution_count": 6,
   "metadata": {},
   "outputs": [
    {
     "name": "stdout",
     "output_type": "stream",
     "text": [
      "MSE >>> 68.35394429129394\n"
     ]
    }
   ],
   "source": [
    "MSE=np.mean((lm.predict(X_test_data_normalized)-y_test_data)**2)\n",
    "print('MSE >>>',MSE)"
   ]
  },
  {
   "cell_type": "code",
   "execution_count": 13,
   "metadata": {},
   "outputs": [
    {
     "name": "stdout",
     "output_type": "stream",
     "text": [
      "alpha >>> 39.442060594376564\n",
      "R2 >>> 0.35040969731597005\n",
      "MSE >>> 69.43925201516895\n"
     ]
    }
   ],
   "source": [
    "from sklearn.linear_model import RidgeCV,Ridge\n",
    "r=np.linspace(-3,10,100)\n",
    "alphas=np.power(10*np.ones(100),r)\n",
    "rcv=RidgeCV(alphas=alphas,cv=5)\n",
    "rcv.fit(X_train_data_normalized,y_train_data)\n",
    "cvAlpha=rcv.alpha_\n",
    "print('alpha >>>',cvAlpha)\n",
    "rlm=Ridge(alpha=cvAlpha)\n",
    "rlm.fit(X_train_data_normalized,y_train_data)\n",
    "print('R2 >>>',rlm.score(X_test_data_normalized,y_test_data))\n",
    "MSE=np.mean((rlm.predict(X_test_data_normalized)-y_test_data)**2)\n",
    "print('MSE >>>',MSE)"
   ]
  },
  {
   "cell_type": "code",
   "execution_count": 14,
   "metadata": {},
   "outputs": [
    {
     "name": "stdout",
     "output_type": "stream",
     "text": [
      "alpha >>> 0.037649358067924694\n",
      "R2 >>> 0.3616769518949525\n",
      "MSE >>> 68.23481634703123\n"
     ]
    }
   ],
   "source": [
    "from sklearn.linear_model import Lasso,LassoCV\n",
    "r=np.linspace(-3,10,100)\n",
    "alphas=np.power(10*np.ones(100),r)\n",
    "rcv=LassoCV(alphas=alphas,cv=5)\n",
    "rcv.fit(X_train_data_normalized,y_train_data)\n",
    "cvAlpha=rcv.alpha_\n",
    "print('alpha >>>',cvAlpha)\n",
    "rlm=Lasso(alpha=cvAlpha)\n",
    "rlm.fit(X_train_data_normalized,y_train_data)\n",
    "print('R2 >>>',rlm.score(X_test_data_normalized,y_test_data))\n",
    "MSE=np.mean((rlm.predict(X_test_data_normalized)-y_test_data)**2)\n",
    "print('MSE >>>',MSE)"
   ]
  },
  {
   "cell_type": "code",
   "execution_count": 22,
   "metadata": {},
   "outputs": [
    {
     "name": "stdout",
     "output_type": "stream",
     "text": [
      "R2 >>> 0.4250175946019502\n",
      "MSE >>> 61.46389191426086\n"
     ]
    }
   ],
   "source": [
    "from sklearn.ensemble import RandomForestRegressor\n",
    "rfr=RandomForestRegressor(random_state=1) # to reproduce results\n",
    "rfr.fit(X_train_data_normalized,y_train_data)\n",
    "print('R2 >>>',rfr.score(X_test_data_normalized,y_test_data))\n",
    "MSE=np.mean((rfr.predict(X_test_data_normalized)-y_test_data)**2)\n",
    "print('MSE >>>',MSE)"
   ]
  },
  {
   "cell_type": "markdown",
   "metadata": {},
   "source": [
    "- no improvment even with ridge regression with cv"
   ]
  }
 ],
 "metadata": {
  "interpreter": {
   "hash": "365d70965140afb04a698773bfdd31483bc82432b779112c2a78b5de7c16d125"
  },
  "kernelspec": {
   "display_name": "Python 3.8.5 64-bit ('base': conda)",
   "name": "python3"
  },
  "language_info": {
   "codemirror_mode": {
    "name": "ipython",
    "version": 3
   },
   "file_extension": ".py",
   "mimetype": "text/x-python",
   "name": "python",
   "nbconvert_exporter": "python",
   "pygments_lexer": "ipython3",
   "version": "3.8.5"
  },
  "orig_nbformat": 4
 },
 "nbformat": 4,
 "nbformat_minor": 2
}
