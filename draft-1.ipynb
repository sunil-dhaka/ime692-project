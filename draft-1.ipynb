{
 "cells": [
  {
   "cell_type": "markdown",
   "metadata": {},
   "source": [
    "# Question:\n",
    "Develop  a  predictive  model  in  which  the  dependent variable  isCvdVax_DisparityY.  Your  task  is  to examine  the  role  of  different  socioeconomic and  demographic  variables  indetermining  thecovid-19 vaccination rate disparities. Note following points to complete this project. \n",
    "\n",
    "(1)You  are  free  to  choose  any prediction/regression model  to  examine  the  role  of  predictors  in determining CvdVax_DisparityY.  But  use  only  data labelledas “train” for the model building purpose. Evaluate the performance ofyourmodels on the test data.\n",
    "\n",
    "(2)Report three models that give best result on the test dataset. Mentionthe final model that you would select. Explainthe reason for its selection. \n",
    "\n",
    "(3)How would you assess the importance of different predictors in your model? Which predictors are most important in determining the racial disparity in covid-19 vaccinate rate? \n",
    "\n",
    "(4)Areyour  findings  similar  to  the resultsreported  by  authors  in  Table  1of  the  article  (see  the hyperlink above)? If not, why? \n",
    "\n",
    "(5)Upload Python/R code with your project report. "
   ]
  },
  {
   "cell_type": "markdown",
   "metadata": {},
   "source": [
    "# IME-project\n",
    "- Examine the relationship between social determinants of health and racial disparitiesin covid-19vaccinationat the county level in US\n",
    "- dates worked:\n",
    "    - date: 28-09 --> understanding the data variables"
   ]
  },
  {
   "cell_type": "code",
   "execution_count": 4,
   "metadata": {},
   "outputs": [],
   "source": [
    "import numpy as np\n",
    "import pandas as pd\n",
    "import matplotlib.pyplot as plt\n",
    "import seaborn as sns\n",
    "from sklearn.decomposition import PCA\n",
    "from sklearn.linear_model import LinearRegression\n",
    "\n",
    "%matplotlib inline "
   ]
  },
  {
   "cell_type": "code",
   "execution_count": 5,
   "metadata": {},
   "outputs": [
    {
     "name": "stdout",
     "output_type": "stream",
     "text": [
      "==========================================\n",
      "No of testing observations:  225\n",
      "No of training observations:  531\n",
      "==========================================\n"
     ]
    }
   ],
   "source": [
    "data=pd.read_csv('ime692_project.csv')\n",
    "\n",
    "# seperate data into test and train based on `Test` indicator\n",
    "pd.options.mode.chained_assignment = None  # default='warn' --> to supress chain assignment warning <--\n",
    "test_data=data.loc[data.Test==1] ## previous indices could be useful ##\n",
    "train_data=data.loc[data.Test==0]\n",
    "print(\"==========================================\")\n",
    "print(\"No of testing observations: \",test_data.shape[0])\n",
    "print(\"No of training observations: \",train_data.shape[0])\n",
    "print(\"==========================================\")\n",
    "\n",
    "# drop the indicator inplace\n",
    "test_data.drop('Test',axis=1,inplace=True)\n",
    "train_data.drop('Test',axis=1,inplace=True)\n",
    "\n",
    "# sepearate predicted and regressor variables\n",
    "y_test_data=test_data['CvdVax_DisparityY'].tolist()\n",
    "X_test_data=test_data.drop('CvdVax_DisparityY',axis=1)\n",
    "y_train_data=train_data['CvdVax_DisparityY'].tolist()\n",
    "X_train_data=train_data.drop('CvdVax_DisparityY',axis=1)\n"
   ]
  },
  {
   "cell_type": "code",
   "execution_count": 6,
   "metadata": {},
   "outputs": [
    {
     "name": "stdout",
     "output_type": "stream",
     "text": [
      "(756, 19)\n",
      "Index(['State', 'County', 'IT_WholeRate', 'HighSchool_WholeRate',\n",
      "       'MedianInc_WholeAvg', 'republican_rate', 'Segregation', 'urban',\n",
      "       'racial_weighted_bias', 'hesitancy', 'HighSchool_Disparity',\n",
      "       'IT_Disparity', 'MedianInc_Disparity', 'CvdVax_DisparityY', 'vehicle',\n",
      "       'FacNumRate', 'CaseRate', 'Black_Prop', 'Test'],\n",
      "      dtype='object')\n"
     ]
    }
   ],
   "source": [
    "## initial data analysis\n",
    "print(data.shape)\n",
    "print(data.columns)"
   ]
  },
  {
   "cell_type": "markdown",
   "metadata": {},
   "source": [
    "### Which variables to use(PCA):\n",
    "- All variables are numeric except State and County Name -\n",
    "    - also urban(1)/rural(0): but can I keep it off for the moment? IG yes.\n",
    "- Normalization: which `z-score` or `min-max`\n",
    "- Role of predictors: `some score based approach ?`\n",
    "    - disparity variables must be included for `y`\n",
    "    - Other factors also affect but are they worth including with model complexity there\n",
    "    - Variable matching(6): `overall -- difference`\n",
    "        - IT_WholeRate -- IT_Disparity\n",
    "        - MedianInc_WholeAvg -- MedianInc_Disparity\n",
    "        - HighSchool_WholeRate -- HighSchool_Disparity\n",
    "    - `Seems` Imp for `y`: \n",
    "        - racial_weighted_bias\n",
    "        - Segregation\n",
    "        - republican_rate\n",
    "        - `hesitancy` :smoking: ?\n",
    "        - FacNumRate(economic)\n",
    "    - `Less` imp for `y`:\n",
    "        - vehicle(economic)\n",
    "        - CaseRate\n",
    "        - Black_Prop\n",
    "- To be honest all seems important; that is why they included right ... but relatievly which ones are more and less ... that need to be seen\n",
    "- real question to answer would be is there any role of previliages(economic-social) and political alliances; it seems so from intuitoin but what does the data tell us?"
   ]
  },
  {
   "cell_type": "markdown",
   "metadata": {},
   "source": [
    "### Which models for prediction/regression of `y`? \n",
    "1. A: basic things is to keep model as simple as possible with few variables to exaplain(`PCA` can be done here to check explained variability by a particular variable/regressor), if possible.\n",
    "    - Multi-linear regression model (linear or not?): covariance or other measures of linearity could be used to check.\n",
    "    - Decision tree: regression trees\n",
    "    - NN 😄\n",
    "    - Prob. gaussian(linear special case) model"
   ]
  },
  {
   "cell_type": "markdown",
   "metadata": {},
   "source": [
    "### Concepts from class:\n",
    "- PCA: to check variability explained by variables and dim reduction\n",
    "- Linearity measures{corr, factor analysis -- see below}\n",
    "- Sampling: bootstrap and cross-validation\n",
    "- Basic pre-model concepts: z-score, min-max normalizations\n",
    "- Models: \n",
    "    - high dim regressions: \n",
    "        - lasso \n",
    "        - lar\n",
    "    - logistics regression? Nah, it is for categorical(usually binary) predictive variable `mainly`\n",
    "    - Ensemble Models: Ensemble models use multiple machine learning algorithms to obtain better predictive performance than what could be obtained from one algorithm alone.\n",
    "    - Factor Analysis: Factor analysis is a method used to describe variability and aims to find independent latent variables.\n",
    "    - Random forsts: ?? -- > ensembling of multiple regression trees\n",
    "    - Generalized Linear Model (GLM) for Two Values ??"
   ]
  },
  {
   "cell_type": "markdown",
   "metadata": {},
   "source": [
    "## Pre-model steps\n",
    "- Normalization of numeric variables\n",
    "    - why?  some variables intrinsically influence the result more due to its larger value. But this doesn't necessarily mean it is more important as a predictor. So we normalize the data to bring all the variables to the same range. \n",
    "    - `z-score`\n",
    "    - `min-max`\n",
    "    - also [read](https://stats.stackexchange.com/questions/111467/is-it-necessary-to-scale-the-target-value-in-addition-to-scaling-features-for-re) for further explanation\n",
    "- Boxplot to see distribution of normalized data\n",
    "- PCA"
   ]
  },
  {
   "cell_type": "code",
   "execution_count": 7,
   "metadata": {},
   "outputs": [],
   "source": [
    "## normalize min-max : droped State and County names\n",
    "# training data\n",
    "X_train_data_normalized=X_train_data.drop((['State','County']),axis=1)\n",
    "min_cols=np.min(X_train_data_normalized)\n",
    "max_cols=np.max(X_train_data_normalized)\n",
    "X_train_data_normalized = (X_train_data_normalized - min_cols)/(max_cols-min_cols)\n",
    "\n",
    "#testing data\n",
    "X_test_data_normalized=X_test_data.drop((['State','County']),axis=1)\n",
    "min_cols=np.min(X_test_data_normalized)\n",
    "max_cols=np.max(X_test_data_normalized)\n",
    "X_test_data_normalized = (X_test_data_normalized - min_cols)/(max_cols-min_cols)"
   ]
  },
  {
   "cell_type": "code",
   "execution_count": 34,
   "metadata": {},
   "outputs": [
    {
     "data": {
      "image/png": "[encoded data removed]",
      "text/plain": [
       "<Figure size 720x432 with 1 Axes>"
      ]
     },
     "metadata": {
      "needs_background": "light"
     },
     "output_type": "display_data"
    }
   ],
   "source": [
    "## boxplots\n",
    "plt.figure(figsize=(10,6))\n",
    "X_train_data_normalized.boxplot(column=list(X_train_data_normalized.columns))\n",
    "plt.title('box plot for numeric feature')\n",
    "plt.xlabel('feature-names')\n",
    "plt.show()"
   ]
  },
  {
   "cell_type": "markdown",
   "metadata": {},
   "source": [
    "## PCA on training data"
   ]
  },
  {
   "cell_type": "code",
   "execution_count": 35,
   "metadata": {},
   "outputs": [
    {
     "data": {
      "image/png": "[encoded data removed]",
      "text/plain": [
       "<Figure size 432x288 with 1 Axes>"
      ]
     },
     "metadata": {
      "needs_background": "light"
     },
     "output_type": "display_data"
    }
   ],
   "source": [
    "n=X_train_data_normalized.shape[1]\n",
    "pca=PCA(n_components=n)\n",
    "X_train_data_transformed=pca.fit_transform(X_train_data_normalized)\n",
    "X_test_data_transformed=pca.fit_transform(X_test_data_normalized)\n",
    "\n",
    "foo_ratio=pca.explained_variance_ratio_\n",
    "\n",
    "# to get cummulative\n",
    "var_ratio=[]\n",
    "for i in range(n):\n",
    "    var_ratio.append(100*sum(foo_ratio[0:i+1]))\n",
    "\n",
    "# plotting the variance explined curve (in %)\n",
    "sns.scatterplot(x=np.arange(n)+1,y=var_ratio)\n",
    "plt.title('variance explained by features')\n",
    "plt.xlabel('# of features')\n",
    "plt.ylabel('vaiance explained in %')\n",
    "plt.xticks(np.arange(n)+1)\n",
    "plt.show() # to avoid text outputs"
   ]
  },
  {
   "cell_type": "markdown",
   "metadata": {},
   "source": [
    "- how pca could help in reducing dimension and working on tranformed data, it could be used since around `90%` variance is being explained by `9-10` features.\n",
    "\n",
    "Observations:\n",
    "1. PCA is not a good techniqe for this problem as no set of features explain variance"
   ]
  },
  {
   "cell_type": "code",
   "execution_count": 36,
   "metadata": {},
   "outputs": [
    {
     "name": "stdout",
     "output_type": "stream",
     "text": [
      "==========================================\n",
      "Model prediction without any modification:  35.34\n",
      "{'IT_WholeRate': 0.08194301896606086, 'HighSchool_WholeRate': 0.1655448147167553, 'MedianInc_WholeAvg': -0.15674910515991863, 'republican_rate': -0.002854972023260059, 'Segregation': 0.17072782182306023, 'urban': -1.5975750923387968, 'racial_weighted_bias': 0.36380046753011364, 'hesitancy': -0.6628484413361121, 'HighSchool_Disparity': 0.15699166227284567, 'IT_Disparity': -0.10551695508894662, 'MedianInc_Disparity': 0.08135699081629807, 'vehicle': 0.29633688507986544, 'FacNumRate': -65.08305045436171, 'CaseRate': 1.2534656942660953, 'Black_Prop': -0.2377213709619164}\n",
      "==========================================\n",
      "THINGS ARE NOT LOOKING GREAT WITH SIMPLE LINEAR REGRESSION\n"
     ]
    }
   ],
   "source": [
    "model_lr=LinearRegression()\n",
    "try_Data=X_train_data.drop((['State','County']),axis=1)\n",
    "try_Data1=X_test_data.drop((['State','County']),axis=1)\n",
    "model_lr.fit(try_Data,y_train_data)\n",
    "\n",
    "print('==========================================')\n",
    "print('Model prediction without any modification: ',round(100*model_lr.score(try_Data1,y_test_data),2)) # veeeeeery bad -- .even on training data\n",
    "coeff_dict={}\n",
    "coeffs=model_lr.coef_.tolist()\n",
    "coeffs.append(model_lr.intercept_)\n",
    "col_names=X_train_data_normalized.columns.tolist()\n",
    "col_names.append('Intercept')\n",
    "for i in range(n):\n",
    "    coeff_dict[col_names[i]]=coeffs[i]\n",
    "print(coeff_dict)\n",
    "print('==========================================')\n",
    "\n",
    "'''print('Feature coefficients are: \\n',model_lr.coef_)\n",
    "print(X_train_data_normalized.columns)\n",
    "print('Intercept term is: ',model_lr.intercept_)'''\n",
    "\n",
    "print('THINGS ARE NOT LOOKING GREAT WITH SIMPLE LINEAR REGRESSION')"
   ]
  },
  {
   "cell_type": "markdown",
   "metadata": {},
   "source": [
    "with X_normalized =12%\n",
    "with simple X_train/test=35%\n",
    "with transformed=-ve??"
   ]
  },
  {
   "cell_type": "markdown",
   "metadata": {},
   "source": [
    "### Regression trees:\n",
    "- supervised ml model\n",
    "-"
   ]
  },
  {
   "cell_type": "code",
   "execution_count": 11,
   "metadata": {},
   "outputs": [
    {
     "data": {
      "text/plain": [
       "DecisionTreeRegressor(random_state=0)"
      ]
     },
     "execution_count": 11,
     "metadata": {},
     "output_type": "execute_result"
    }
   ],
   "source": [
    "from sklearn.tree import DecisionTreeRegressor\n",
    "regressor=DecisionTreeRegressor(random_state=0)\n",
    "regressor.fit(try_Data,y_train_data)"
   ]
  },
  {
   "cell_type": "markdown",
   "metadata": {},
   "source": [
    "- learn what is being taught by the proffesor and then try to implement them\n",
    "- also use data mining and ml resources if possible"
   ]
  },
  {
   "cell_type": "markdown",
   "metadata": {},
   "source": [
    "The main analyses in the contextare performed usingOLS regressions: one with COVID-19 disparity (CVD) and a second with flu vaccination disparity (FVD) among Blacksand Whitesas the dependent variable. In the regression models, in addition to the main explanatory variables, we include state dummy variables to account for state heterogeneity in vaccination policies, since states have slightly different COVID-19 vaccination eligibility in terms of age and occupations (44). Before conducting the regression analysis, all variables except the dependent variables and dummy variables were standardized to yield mean = 0 and standard deviation = 1. Furthermore, to alleviate the influence of outliers, `we winsorized all variables at 5thand 95thpercentiles`. Finally, the regression models were weighted using total county population, with robust standard errors clustered at the state level."
   ]
  },
  {
   "cell_type": "code",
   "execution_count": 18,
   "metadata": {},
   "outputs": [],
   "source": [
    "## normalize Zscore : droped State and County names\n",
    "# training data\n",
    "X_train_data_normalized=X_train_data.drop((['State','County']),axis=1)\n",
    "mean_cols=np.mean(X_train_data_normalized)\n",
    "std_cols=np.std(X_train_data_normalized)\n",
    "X_train_data_normalized = (X_train_data_normalized - mean_cols)/(max_cols)\n"
   ]
  },
  {
   "cell_type": "code",
   "execution_count": 19,
   "metadata": {},
   "outputs": [],
   "source": [
    "\n",
    "#testing data\n",
    "X_test_data_normalized=X_test_data.drop((['State','County']),axis=1)\n",
    "mean_cols=np.mean(X_test_data_normalized)\n",
    "std_cols=np.std(X_test_data_normalized)\n",
    "X_test_data_normalized = (X_test_data_normalized - mean_cols)/(std_cols)"
   ]
  },
  {
   "cell_type": "code",
   "execution_count": 20,
   "metadata": {},
   "outputs": [
    {
     "name": "stdout",
     "output_type": "stream",
     "text": [
      "==========================================\n",
      "Model prediction without any modification:  36.06\n",
      "{'IT_WholeRate': 0.5884564466153954, 'HighSchool_WholeRate': 0.8994321922846604, 'MedianInc_WholeAvg': -2.5014971474916434, 'republican_rate': -4.513068534121053, 'Segregation': 2.746327782888727, 'urban': -0.7777723330530262, 'racial_weighted_bias': 0.6561494363287494, 'hesitancy': -2.466435935123431, 'HighSchool_Disparity': 1.2731332812402159, 'IT_Disparity': -1.085465994152772, 'MedianInc_Disparity': 1.2948823486599885, 'vehicle': 1.3518971833573938, 'FacNumRate': -0.7623955686740065, 'CaseRate': 3.2685039446659663, 'Black_Prop': -3.2684252229423487}\n",
      "==========================================\n"
     ]
    }
   ],
   "source": [
    "model_lr=LinearRegression()\n",
    "try_Data=X_train_data_normalized\n",
    "try_Data1=X_test_data_normalized\n",
    "model_lr.fit(try_Data,y_train_data)\n",
    "\n",
    "print('==========================================')\n",
    "print('Model prediction without any modification: ',round(100*model_lr.score(try_Data1,y_test_data),2)) # veeeeeery bad -- .even on training data\n",
    "coeff_dict={}\n",
    "coeffs=model_lr.coef_.tolist()\n",
    "coeffs.append(model_lr.intercept_)\n",
    "col_names=X_train_data_normalized.columns.tolist()\n",
    "col_names.append('Intercept')\n",
    "for i in range(n):\n",
    "    coeff_dict[col_names[i]]=coeffs[i]\n",
    "print(coeff_dict)\n",
    "print('==========================================')"
   ]
  },
  {
   "cell_type": "code",
   "execution_count": 24,
   "metadata": {},
   "outputs": [
    {
     "data": {
      "text/plain": [
       "68.35394429129398"
      ]
     },
     "execution_count": 24,
     "metadata": {},
     "output_type": "execute_result"
    }
   ],
   "source": [
    "np.sum((model_lr.predict(try_Data1)-y_test_data)**2)/len(y_test_data) #<-- MSE"
   ]
  },
  {
   "cell_type": "code",
   "execution_count": 26,
   "metadata": {},
   "outputs": [
    {
     "data": {
      "text/plain": [
       "8.267644422161247"
      ]
     },
     "execution_count": 26,
     "metadata": {},
     "output_type": "execute_result"
    }
   ],
   "source": [
    "np.sqrt(np.sum((model_lr.predict(try_Data1)-y_test_data)**2)/len(y_test_data)) #<-- RMSE"
   ]
  },
  {
   "cell_type": "code",
   "execution_count": 27,
   "metadata": {},
   "outputs": [
    {
     "data": {
      "text/plain": [
       "36.056253382266576"
      ]
     },
     "execution_count": 27,
     "metadata": {},
     "output_type": "execute_result"
    }
   ],
   "source": [
    "100*model_lr.score(try_Data1,y_test_data) # R2"
   ]
  },
  {
   "cell_type": "code",
   "execution_count": 28,
   "metadata": {},
   "outputs": [
    {
     "data": {
      "text/plain": [
       "6.1401692702778785"
      ]
     },
     "execution_count": 28,
     "metadata": {},
     "output_type": "execute_result"
    }
   ],
   "source": [
    "np.sum(np.abs(model_lr.predict(try_Data1)-y_test_data))/len(y_test_data)"
   ]
  },
  {
   "cell_type": "code",
   "execution_count": 30,
   "metadata": {},
   "outputs": [
    {
     "data": {
      "text/plain": [
       "-37.572252428840734"
      ]
     },
     "execution_count": 30,
     "metadata": {},
     "output_type": "execute_result"
    }
   ],
   "source": [
    "(1-100*model_lr.score(try_Data1,y_test_data))*((len(y_test_data)-1)/(len(y_test_data)-n-1))"
   ]
  }
 ],
 "metadata": {
  "interpreter": {
   "hash": "365d70965140afb04a698773bfdd31483bc82432b779112c2a78b5de7c16d125"
  },
  "kernelspec": {
   "display_name": "Python 3.8.5 64-bit ('base': conda)",
   "name": "python3"
  },
  "language_info": {
   "codemirror_mode": {
    "name": "ipython",
    "version": 3
   },
   "file_extension": ".py",
   "mimetype": "text/x-python",
   "name": "python",
   "nbconvert_exporter": "python",
   "pygments_lexer": "ipython3",
   "version": "3.8.5"
  },
  "orig_nbformat": 4
 },
 "nbformat": 4,
 "nbformat_minor": 2
}
