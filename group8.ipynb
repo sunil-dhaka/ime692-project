{
 "cells": [
  {
   "cell_type": "markdown",
   "metadata": {},
   "source": [
    "# Course Project – IME692, Fall 2021\n",
    "\n",
    "## Question\n",
    "\n",
    "#### Develop  a  predictive  model  in  which  the  dependent variable  isCvdVax_DisparityY.  Your  task  is  to examine  the  role  of  different  socioeconomic and  demographic  variables  indetermining  thecovid-19 vaccination rate disparities. Note following points to complete this project.\n",
    "\n",
    "(1)You  are  free  to  choose  any prediction/regression model  to  examine  the  role  of  predictors  in determining CvdVax_DisparityY.  But  use  only  data labelledas “train” for the model building purpose. Evaluate the performance ofyourmodels on the test data.\n",
    "\n",
    "(2)Report three models that give best result on the test dataset. Mentionthe final model that you would select. Explainthe reason for its selection. \n",
    "\n",
    "(3)How would you assess the importance of different predictors in your model? Which predictors are most important in determining the racial disparity in covid-19 vaccinate rate? \n",
    "\n",
    "(4)Areyour  findings  similar  to  the resultsreported  by  authors  in  Table  1of  the  article  (see  the hyperlink above)? If not, why? \n",
    "\n",
    "(5)Upload Python/R code with your project report. "
   ]
  },
  {
   "cell_type": "markdown",
   "metadata": {},
   "source": [
    "# programme structure and points"
   ]
  },
  {
   "cell_type": "markdown",
   "metadata": {},
   "source": [
    "# libraries required"
   ]
  },
  {
   "cell_type": "code",
   "execution_count": 1,
   "metadata": {},
   "outputs": [
    {
     "name": "stderr",
     "output_type": "stream",
     "text": [
      "/home/sunild/.local/lib/python3.8/site-packages/matplotlib_inline/config.py:66: DeprecationWarning: InlineBackend._figure_formats_changed is deprecated in traitlets 4.1: use @observe and @unobserve instead.\n",
      "  def _figure_formats_changed(self, name, old, new):\n",
      "/home/sunild/anaconda3/lib/python3.8/site-packages/patsy/constraint.py:13: DeprecationWarning: Using or importing the ABCs from 'collections' instead of from 'collections.abc' is deprecated since Python 3.3, and in 3.9 it will stop working\n",
      "  from collections import Mapping\n"
     ]
    }
   ],
   "source": [
    "# basic modules\n",
    "import numpy as np\n",
    "import pandas as pd\n",
    "\n",
    "# plot modules\n",
    "import matplotlib.pyplot as plt\n",
    "import seaborn as sns\n",
    "\n",
    "# analysis modules\n",
    "## pre-process and metrics\n",
    "from sklearn.decomposition import PCA\n",
    "from sklearn.metrics import mean_squared_error\n",
    "from sklearn.preprocessing import StandardScaler\n",
    "\n",
    "## linear analysis\n",
    "from sklearn.linear_model import LinearRegression\n",
    "from sklearn.linear_model import ElasticNet,ElasticNetCV\n",
    "from sklearn.linear_model import Ridge,RidgeCV\n",
    "from sklearn.linear_model import Lasso,LassoCV\n",
    "import statsmodels.api as sm\n",
    "\n",
    "## random forest\n",
    "from sklearn.ensemble import RandomForestRegressor\n",
    "from sklearn.model_selection import RandomizedSearchCV\n",
    "\n",
    "## svm analysis\n",
    "from sklearn.svm import SVR\n",
    "\n"
   ]
  },
  {
   "cell_type": "markdown",
   "metadata": {},
   "source": [
    "# pre-process"
   ]
  },
  {
   "cell_type": "markdown",
   "metadata": {},
   "source": [
    "### split test-train\n",
    "\n",
    "- separate independant and dependant variables\n",
    "- dropped state and county columns \n",
    "    - since all variables are numeric except State and County Name"
   ]
  },
  {
   "cell_type": "code",
   "execution_count": 2,
   "metadata": {},
   "outputs": [
    {
     "name": "stdout",
     "output_type": "stream",
     "text": [
      "==========================================\n",
      "No of testing observations:  225\n",
      "No of training observations:  531\n",
      "==========================================\n"
     ]
    }
   ],
   "source": [
    "data=pd.read_csv('ime692_project.csv')\n",
    "\n",
    "# avoid State and County name\n",
    "cols=data.columns[2:].to_list()\n",
    "data=data[cols]\n",
    "\n",
    "# seperate data into test and train based on `Test` indicator\n",
    "pd.options.mode.chained_assignment = None  # default='warn' --> to supress chain assignment warning <--\n",
    "test_data=data.loc[data.Test==1] ## previous indices could be useful ##\n",
    "train_data=data.loc[data.Test==0]\n",
    "\n",
    "# assert split\n",
    "print(\"==========================================\")\n",
    "print(\"No of testing observations: \",test_data.shape[0])\n",
    "print(\"No of training observations: \",train_data.shape[0])\n",
    "print(\"==========================================\")\n",
    "\n",
    "# drop the indicator inplace\n",
    "test_data.drop('Test',axis=1,inplace=True)\n",
    "train_data.drop('Test',axis=1,inplace=True)\n",
    "\n",
    "# sepearate predicted and regressor variables\n",
    "y_test_data=test_data['CvdVax_DisparityY'].tolist()\n",
    "X_test_data=test_data.drop('CvdVax_DisparityY',axis=1)\n",
    "y_train_data=train_data['CvdVax_DisparityY'].tolist()\n",
    "X_train_data=train_data.drop('CvdVax_DisparityY',axis=1)"
   ]
  },
  {
   "cell_type": "markdown",
   "metadata": {},
   "source": [
    "### normalization\n",
    "\n",
    "- z-score normalization is being done on features\n",
    "    - can work with min-max also\n",
    "- no need to normalize dependent variable"
   ]
  },
  {
   "cell_type": "code",
   "execution_count": 3,
   "metadata": {},
   "outputs": [],
   "source": [
    "scalerInst=StandardScaler()\n",
    "X_train_data_normalized=scalerInst.fit_transform(X_train_data)\n",
    "X_test_data_normalized=scalerInst.fit_transform(X_test_data)"
   ]
  },
  {
   "cell_type": "markdown",
   "metadata": {},
   "source": [
    "### Which variables to use(PCA)\n",
    "\n",
    "- to check which features to use for further analysis\n",
    "- if small no of features can explain significant variance then work with them only to avoid model becoming complex\n",
    "    - if not then can not avoid features"
   ]
  },
  {
   "cell_type": "code",
   "execution_count": 4,
   "metadata": {},
   "outputs": [
    {
     "data": {
      "image/png": "[encoded data removed]",
      "text/plain": [
       "<Figure size 432x288 with 1 Axes>"
      ]
     },
     "metadata": {
      "needs_background": "light"
     },
     "output_type": "display_data"
    }
   ],
   "source": [
    "n=X_train_data_normalized.shape[1]\n",
    "pca=PCA(n_components=n)\n",
    "X_train_data_transformed=pca.fit_transform(X_train_data_normalized)\n",
    "X_test_data_transformed=pca.fit_transform(X_test_data_normalized)\n",
    "\n",
    "foo_ratio=pca.explained_variance_ratio_\n",
    "\n",
    "# to get cummulative\n",
    "var_ratio=[]\n",
    "for i in range(n):\n",
    "    var_ratio.append(100*sum(foo_ratio[0:i+1]))\n",
    "\n",
    "# plotting the variance explined curve (in %)\n",
    "ax=sns.scatterplot(x=np.arange(n)+1,y=var_ratio)\n",
    "ax.axhline(95,color='red')\n",
    "plt.title('variance explained by features')\n",
    "plt.xlabel('# of features')\n",
    "plt.ylabel('vaiance explained in %')\n",
    "plt.xticks(np.arange(n)+1)\n",
    "plt.show() # to avoid text outputs\n",
    "# plt.savefig('pca.png')"
   ]
  },
  {
   "cell_type": "markdown",
   "metadata": {},
   "source": [
    "\n",
    "**observations**\n",
    "\n",
    "- PCA is not a good techniqe for this problem \n",
    "    - as no small number set of features explain variance quite significantly\n",
    "    - if around 5-6 features would have explained around 90-95% variance then PCA would have been helpful, but that is not the case here"
   ]
  },
  {
   "cell_type": "markdown",
   "metadata": {},
   "source": [
    "# functions for analysis\n",
    "\n",
    "- function `model` uses test and train data with global scope\n",
    "- these functions have been used throught the project"
   ]
  },
  {
   "cell_type": "markdown",
   "metadata": {},
   "source": [
    "### function to plot coef plots for models\n",
    "\n",
    "**`function parameters:`**\n",
    "- coefDf: coef data frame with column names from project data\n",
    "- name: [used as an identifier] name to be printed in plots"
   ]
  },
  {
   "cell_type": "code",
   "execution_count": 5,
   "metadata": {},
   "outputs": [],
   "source": [
    "def coefplot(coefDf,name):\n",
    "    # to tweak default barh visual\n",
    "    kwargs={\n",
    "    'alpha':0.8,\n",
    "    'edgecolor':'#333',\n",
    "    'facecolor':'#eef',\n",
    "    'width':0.2\n",
    "    }\n",
    "    # to plot barh\n",
    "    (coefDf['Weight of Coeff'].sort_values(ascending = False,kind='mergesort')).plot.barh(figsize=(8,8),**kwargs)\n",
    "    plt.title(f'Importance of Coeff- {name}')\n",
    "    plt.xlabel(\"Importance\")\n",
    "    plt.ylabel('Features')\n",
    "    plt.show()"
   ]
  },
  {
   "cell_type": "markdown",
   "metadata": {},
   "source": [
    "### general function for models\n",
    "\n",
    "**`function parameters:`**\n",
    "- plot: `Bool`\n",
    "    - by default is set to `False`, to plot feature coeffs set it to `True`float\n",
    "- c: `float`\n",
    "    - tuning hyperparameter used for SVR model, default to 0.1\n",
    "- kernel: ['linear', 'poly', 'rbf', 'sigmoid']\n",
    "    - kernel used for SVR model, default to `linear`\n",
    "- model_title: [used as an identifier]name to be printed in plots etc\n",
    "- modelName: model `class` name imported from `sklearn`"
   ]
  },
  {
   "cell_type": "code",
   "execution_count": 15,
   "metadata": {},
   "outputs": [],
   "source": [
    "def model(modelName,model_title,kernel='linear',c=0.1,plot=False):\n",
    "    if modelName==SVR:\n",
    "        rm=modelName(kernel=kernel,C=c)\n",
    "    else:\n",
    "        rm=modelName()\n",
    "    \n",
    "    rm.fit(X_train_data_normalized,y_train_data)\n",
    "\n",
    "    # test mse\n",
    "    preds_test=rm.predict(X_test_data_normalized)\n",
    "    MSE_test=mean_squared_error(y_test_data,preds_test)\n",
    "\n",
    "    # train mse\n",
    "    preds_train=rm.predict(X_train_data_normalized)\n",
    "    MSE_train=mean_squared_error(y_train_data,preds_train)\n",
    "\n",
    "    print(model_title)\n",
    "    print(''.center(30,'='))\n",
    "    print('Train MSE =',round(MSE_train,2))\n",
    "    print('Test MSE =',round(MSE_test,2))\n",
    "    print(''.center(30,'='))\n",
    "\n",
    "    if plot==True:\n",
    "        print('Relative Feature Importance Plot')\n",
    "        kwargs={\n",
    "            'alpha':0.8,\n",
    "            'edgecolor':'#333',\n",
    "            'facecolor':'#eef',\n",
    "            'width':0.2\n",
    "            }\n",
    "        # to plot barh\n",
    "        if modelName==RandomForestRegressor:\n",
    "            coefDf = pd.DataFrame(rm.feature_importances_.T, columns=['Weight of Coeff'], index=X_train_data.columns)\n",
    "        else:\n",
    "            coefDf = pd.DataFrame(rm.coef_.T, columns=['Weight of Coeff'], index=X_train_data.columns)\n",
    "        (coefDf['Weight of Coeff'].sort_values(ascending = False,kind='mergesort')).plot.barh(figsize=(8,8),**kwargs)\n",
    "        plt.title(f'Importance of Coeff- {model_title}')\n",
    "        plt.xlabel(\"Importance\")\n",
    "        plt.ylabel('Features')\n",
    "        plt.show()\n",
    "\n",
    "    return {'Model Name':model_title ,'Train':MSE_train,'Test':MSE_test}"
   ]
  },
  {
   "cell_type": "code",
   "execution_count": 7,
   "metadata": {},
   "outputs": [],
   "source": [
    "# intialize lists to compare models\n",
    "model_compare=[]\n",
    "linear_models_compare=[]"
   ]
  },
  {
   "cell_type": "markdown",
   "metadata": {},
   "source": [
    "# linear model"
   ]
  },
  {
   "cell_type": "markdown",
   "metadata": {},
   "source": [
    "### normal multiple linear regression"
   ]
  },
  {
   "cell_type": "code",
   "execution_count": 8,
   "metadata": {},
   "outputs": [
    {
     "name": "stdout",
     "output_type": "stream",
     "text": [
      "Normal Linear Regression\n",
      "==============================\n",
      "Train MSE = 56.27\n",
      "Test MSE = 68.35\n",
      "==============================\n"
     ]
    }
   ],
   "source": [
    "lm=model(LinearRegression,'Normal Linear Regression')\n",
    "model_compare.append(lm)\n",
    "linear_models_compare.append(lm)"
   ]
  },
  {
   "cell_type": "markdown",
   "metadata": {},
   "source": [
    "### restricted regression models\n",
    "\n",
    "- here restricted models are, specifically: \n",
    "    - lasso(l1 norm)\n",
    "    - ridge(l2 norm)\n",
    "    - elastinet(l1 and l2 norm)\n",
    "- we have seen linear model without any restrictions; now to try out this with restrictions we have included these models\n",
    "- we will compare these models with normal linear model in two cases:\n",
    "    - first case: with default alpha\n",
    "    - second case: with best alpha in search space [to see if there is any improvement]"
   ]
  },
  {
   "cell_type": "markdown",
   "metadata": {},
   "source": [
    "#### model names and titles"
   ]
  },
  {
   "cell_type": "code",
   "execution_count": 9,
   "metadata": {},
   "outputs": [],
   "source": [
    "models=[\n",
    "    {\n",
    "        'title':'Lasso Regression Model',\n",
    "        'name':Lasso,\n",
    "        'cv':LassoCV\n",
    "    },\n",
    "    {\n",
    "        'title':'Ridge Regression Model',\n",
    "        'name':Ridge,\n",
    "        'cv':RidgeCV\n",
    "    },\n",
    "    {\n",
    "        'title':'Elastinet Regression Model',\n",
    "        'name':ElasticNet,\n",
    "        'cv':ElasticNetCV\n",
    "    }\n",
    "]"
   ]
  },
  {
   "cell_type": "markdown",
   "metadata": {},
   "source": [
    "#### func used to cover with restrictions linear regression models\n",
    "\n",
    "**`function params`**\n",
    "\n",
    "- cvFolds: no of folds to be used to choose best alpha in search space\n",
    "- title, modelName, modelCV: self-explanatory"
   ]
  },
  {
   "cell_type": "code",
   "execution_count": 10,
   "metadata": {},
   "outputs": [],
   "source": [
    "# func used to cover with restrictions linear regression models\n",
    "def restrictModels(title,modelName,modelCV,cvFolds=10,plot=False):\n",
    "    # choosing alpha hyperparameter\n",
    "    ## create search space\n",
    "    r=np.linspace(-3,10,100)\n",
    "    alphas=np.power(10*np.ones(100),r)\n",
    "    ## get best possible alpha in search space\n",
    "    rcv=modelCV(alphas=alphas,cv=cvFolds)\n",
    "    rcv.fit(X_train_data_normalized,y_train_data)\n",
    "    cvAlpha=rcv.alpha_\n",
    "\n",
    "    # fit model\n",
    "    rlm=modelName(alpha=cvAlpha)\n",
    "    rlm.fit(X_train_data_normalized,y_train_data)\n",
    "\n",
    "    # test mse\n",
    "    preds_test=rlm.predict(X_test_data_normalized)\n",
    "    MSE_test=mean_squared_error(y_test_data,preds_test)\n",
    "\n",
    "    # train mse\n",
    "    preds_train=rlm.predict(X_train_data_normalized)\n",
    "    MSE_train=mean_squared_error(y_train_data,preds_train)\n",
    "\n",
    "    # some nice formatting\n",
    "    print(title)\n",
    "    print(''.center(30,'='))\n",
    "    print(f'CV alpha =',round(cvAlpha,2))\n",
    "    print(f'Train MSE =',round(MSE_train,2))\n",
    "    print(f'Test MSE =',round(MSE_test,2))\n",
    "    print(''.center(30,'='))\n",
    "\n",
    "    if plot:\n",
    "        # plot\n",
    "        coefDf = pd.DataFrame(rlm.coef_.T, columns=['Weight of Coeff'], index=X_train_data.columns)\n",
    "        coefplot(coefDf,title)\n",
    "\n",
    "    # return data dict\n",
    "    return {'Model Name':title,'Train':MSE_train,'Test':MSE_test}"
   ]
  },
  {
   "cell_type": "markdown",
   "metadata": {},
   "source": [
    "#### implementation for comparision[first case]"
   ]
  },
  {
   "cell_type": "code",
   "execution_count": 11,
   "metadata": {},
   "outputs": [
    {
     "name": "stdout",
     "output_type": "stream",
     "text": [
      "Lasso Regression Model(first-case)\n",
      "==============================\n",
      "Train MSE = 67.98\n",
      "Test MSE = 75.7\n",
      "==============================\n",
      "Ridge Regression Model(first-case)\n",
      "==============================\n",
      "Train MSE = 56.27\n",
      "Test MSE = 68.37\n",
      "==============================\n",
      "Elastinet Regression Model(first-case)\n",
      "==============================\n",
      "Train MSE = 68.39\n",
      "Test MSE = 77.61\n",
      "==============================\n"
     ]
    }
   ],
   "source": [
    "for m in models:\n",
    "    linear_models_compare.append(model(m['name'],m['title']+'(first-case)'))\n",
    "\n",
    "restrictedDf=pd.DataFrame(linear_models_compare)"
   ]
  },
  {
   "cell_type": "markdown",
   "metadata": {},
   "source": [
    "#### implementation for comparision[second case]"
   ]
  },
  {
   "cell_type": "code",
   "execution_count": 12,
   "metadata": {},
   "outputs": [
    {
     "name": "stdout",
     "output_type": "stream",
     "text": [
      "Lasso Regression Model(second-case)\n",
      "==============================\n",
      "CV alpha = 0.01\n",
      "Train MSE = 56.27\n",
      "Test MSE = 68.32\n",
      "==============================\n",
      "Ridge Regression Model(second-case)\n",
      "==============================\n",
      "CV alpha = 53.37\n",
      "Train MSE = 57.41\n",
      "Test MSE = 69.89\n",
      "==============================\n",
      "Elastinet Regression Model(second-case)\n",
      "==============================\n",
      "CV alpha = 0.04\n",
      "Train MSE = 56.4\n",
      "Test MSE = 68.54\n",
      "==============================\n"
     ]
    }
   ],
   "source": [
    "for m in models:\n",
    "    linear_models_compare.append(restrictModels(m['title']+'(second-case)',m['name'],m['cv']))\n",
    "\n",
    "restrictedDf=pd.DataFrame(linear_models_compare)"
   ]
  },
  {
   "cell_type": "markdown",
   "metadata": {},
   "source": [
    "#### Observations\n",
    "- although there is some improvement when using optimum alpha(i.e. second case) in restricted linear models, but not enough to surpass normal linear model\n",
    "- it is quite clear from MSE errors that all restricted models perform equally well or worse than simple linear regression model, on test data\n",
    "- And we shall choose model that is simple rather than complex and gives around same accuracy, \n",
    "    - Hence, we `choose normal linear regression `without any restriction on its coefficients"
   ]
  },
  {
   "cell_type": "code",
   "execution_count": 13,
   "metadata": {},
   "outputs": [
    {
     "data": {
      "text/html": [
       "<div>\n",
       "<style scoped>\n",
       "    .dataframe tbody tr th:only-of-type {\n",
       "        vertical-align: middle;\n",
       "    }\n",
       "\n",
       "    .dataframe tbody tr th {\n",
       "        vertical-align: top;\n",
       "    }\n",
       "\n",
       "    .dataframe thead th {\n",
       "        text-align: right;\n",
       "    }\n",
       "</style>\n",
       "<table border=\"1\" class=\"dataframe\">\n",
       "  <thead>\n",
       "    <tr style=\"text-align: right;\">\n",
       "      <th></th>\n",
       "      <th>Model Name</th>\n",
       "      <th>Train</th>\n",
       "      <th>Test</th>\n",
       "    </tr>\n",
       "  </thead>\n",
       "  <tbody>\n",
       "    <tr>\n",
       "      <th>0</th>\n",
       "      <td>Normal Linear Regression</td>\n",
       "      <td>56.266316</td>\n",
       "      <td>68.353944</td>\n",
       "    </tr>\n",
       "    <tr>\n",
       "      <th>1</th>\n",
       "      <td>Lasso Regression Model(first-case)</td>\n",
       "      <td>67.983229</td>\n",
       "      <td>75.702897</td>\n",
       "    </tr>\n",
       "    <tr>\n",
       "      <th>2</th>\n",
       "      <td>Ridge Regression Model(first-case)</td>\n",
       "      <td>56.267138</td>\n",
       "      <td>68.370663</td>\n",
       "    </tr>\n",
       "    <tr>\n",
       "      <th>3</th>\n",
       "      <td>Elastinet Regression Model(first-case)</td>\n",
       "      <td>68.387424</td>\n",
       "      <td>77.608423</td>\n",
       "    </tr>\n",
       "    <tr>\n",
       "      <th>4</th>\n",
       "      <td>Lasso Regression Model(second-case)</td>\n",
       "      <td>56.268864</td>\n",
       "      <td>68.319383</td>\n",
       "    </tr>\n",
       "    <tr>\n",
       "      <th>5</th>\n",
       "      <td>Ridge Regression Model(second-case)</td>\n",
       "      <td>57.409528</td>\n",
       "      <td>69.890832</td>\n",
       "    </tr>\n",
       "    <tr>\n",
       "      <th>6</th>\n",
       "      <td>Elastinet Regression Model(second-case)</td>\n",
       "      <td>56.398309</td>\n",
       "      <td>68.536873</td>\n",
       "    </tr>\n",
       "  </tbody>\n",
       "</table>\n",
       "</div>"
      ],
      "text/plain": [
       "                                Model Name      Train       Test\n",
       "0                 Normal Linear Regression  56.266316  68.353944\n",
       "1       Lasso Regression Model(first-case)  67.983229  75.702897\n",
       "2       Ridge Regression Model(first-case)  56.267138  68.370663\n",
       "3   Elastinet Regression Model(first-case)  68.387424  77.608423\n",
       "4      Lasso Regression Model(second-case)  56.268864  68.319383\n",
       "5      Ridge Regression Model(second-case)  57.409528  69.890832\n",
       "6  Elastinet Regression Model(second-case)  56.398309  68.536873"
      ]
     },
     "execution_count": 13,
     "metadata": {},
     "output_type": "execute_result"
    }
   ],
   "source": [
    "restrictedDf"
   ]
  },
  {
   "cell_type": "markdown",
   "metadata": {},
   "source": [
    "# Random Forest"
   ]
  },
  {
   "cell_type": "code",
   "execution_count": 16,
   "metadata": {},
   "outputs": [
    {
     "name": "stdout",
     "output_type": "stream",
     "text": [
      "Random Forest\n",
      "==============================\n",
      "Train MSE = 8.42\n",
      "Test MSE = 61.02\n",
      "==============================\n",
      "Relative Feature Importance Plot\n"
     ]
    },
    {
     "data": {
      "image/png": "[encoded data removed]",
      "text/plain": [
       "<Figure size 576x576 with 1 Axes>"
      ]
     },
     "metadata": {
      "needs_background": "light"
     },
     "output_type": "display_data"
    }
   ],
   "source": [
    "rf=model(RandomForestRegressor,'Random Forest',plot=True)\n",
    "model_compare.append(rf)"
   ]
  },
  {
   "cell_type": "markdown",
   "metadata": {},
   "source": [
    "# Support Vector Resgression"
   ]
  },
  {
   "cell_type": "code",
   "execution_count": 18,
   "metadata": {},
   "outputs": [
    {
     "name": "stdout",
     "output_type": "stream",
     "text": [
      "Support Vector Resgression\n",
      "==============================\n",
      "Train MSE = 61.93\n",
      "Test MSE = 72.55\n",
      "==============================\n"
     ]
    }
   ],
   "source": [
    "svr=model(SVR,'Support Vector Resgression')\n",
    "model_compare.append(svr)"
   ]
  },
  {
   "cell_type": "markdown",
   "metadata": {},
   "source": [
    "### tuning hyperparameter(C) in SVR\n",
    "\n",
    "- till now we have random forest \n",
    "- to see if SVR outperforms random after tuning `C`, we do:\n",
    "    - work with bunch of different values of `C` and see if any one does better than Random Forest"
   ]
  },
  {
   "cell_type": "code",
   "execution_count": 19,
   "metadata": {},
   "outputs": [
    {
     "name": "stdout",
     "output_type": "stream",
     "text": [
      "SVR (C=0.01,kernel=linear)\n",
      "==============================\n",
      "Train MSE = 78.6\n",
      "Test MSE = 85.51\n",
      "==============================\n",
      "SVR (C=0.01,kernel=poly)\n",
      "==============================\n",
      "Train MSE = 107.06\n",
      "Test MSE = 106.94\n",
      "==============================\n",
      "SVR (C=0.01,kernel=rbf)\n",
      "==============================\n",
      "Train MSE = 107.85\n",
      "Test MSE = 106.81\n",
      "==============================\n",
      "SVR (C=0.1,kernel=linear)\n",
      "==============================\n",
      "Train MSE = 61.93\n",
      "Test MSE = 72.55\n",
      "==============================\n",
      "SVR (C=0.1,kernel=poly)\n",
      "==============================\n",
      "Train MSE = 96.12\n",
      "Test MSE = 102.79\n",
      "==============================\n",
      "SVR (C=0.1,kernel=rbf)\n",
      "==============================\n",
      "Train MSE = 93.18\n",
      "Test MSE = 95.85\n",
      "==============================\n",
      "SVR (C=1,kernel=linear)\n",
      "==============================\n",
      "Train MSE = 58.24\n",
      "Test MSE = 68.27\n",
      "==============================\n",
      "SVR (C=1,kernel=poly)\n",
      "==============================\n",
      "Train MSE = 71.14\n",
      "Test MSE = 119.06\n",
      "==============================\n",
      "SVR (C=1,kernel=rbf)\n",
      "==============================\n",
      "Train MSE = 58.22\n",
      "Test MSE = 70.02\n",
      "==============================\n",
      "SVR (C=10,kernel=linear)\n",
      "==============================\n",
      "Train MSE = 58.03\n",
      "Test MSE = 68.13\n",
      "==============================\n",
      "SVR (C=10,kernel=poly)\n",
      "==============================\n",
      "Train MSE = 47.51\n",
      "Test MSE = 76.02\n",
      "==============================\n",
      "SVR (C=10,kernel=rbf)\n",
      "==============================\n",
      "Train MSE = 30.85\n",
      "Test MSE = 61.41\n",
      "==============================\n",
      "SVR (C=100,kernel=linear)\n",
      "==============================\n",
      "Train MSE = 58.03\n",
      "Test MSE = 68.1\n",
      "==============================\n",
      "SVR (C=100,kernel=poly)\n",
      "==============================\n",
      "Train MSE = 23.74\n",
      "Test MSE = 136.21\n",
      "==============================\n",
      "SVR (C=100,kernel=rbf)\n",
      "==============================\n",
      "Train MSE = 7.43\n",
      "Test MSE = 70.35\n",
      "==============================\n"
     ]
    }
   ],
   "source": [
    "# optimizing the parameter C in SVC\n",
    "C=[0.01,0.1,1,10,100]\n",
    "kernels=['linear', 'poly', 'rbf']\n",
    "compare_svr=[]\n",
    "for c in C:\n",
    "    for k in kernels:\n",
    "        compare_svr.append(model(SVR,f'SVR (C={c},kernel={k})',kernel=k,c=c))"
   ]
  },
  {
   "cell_type": "markdown",
   "metadata": {},
   "source": [
    "#### observations\n",
    "\n",
    "- only SVR with `C=10 `and `kernel='rbf'` performs better than random forest in terms of test mse, but it is not very much and it does not perform \n",
    "- so the best model out of(`linear  -- random -- SVR`) is `random forest`"
   ]
  },
  {
   "cell_type": "code",
   "execution_count": 20,
   "metadata": {},
   "outputs": [
    {
     "data": {
      "text/html": [
       "<div>\n",
       "<style scoped>\n",
       "    .dataframe tbody tr th:only-of-type {\n",
       "        vertical-align: middle;\n",
       "    }\n",
       "\n",
       "    .dataframe tbody tr th {\n",
       "        vertical-align: top;\n",
       "    }\n",
       "\n",
       "    .dataframe thead th {\n",
       "        text-align: right;\n",
       "    }\n",
       "</style>\n",
       "<table border=\"1\" class=\"dataframe\">\n",
       "  <thead>\n",
       "    <tr style=\"text-align: right;\">\n",
       "      <th></th>\n",
       "      <th>Model Name</th>\n",
       "      <th>Train</th>\n",
       "      <th>Test</th>\n",
       "    </tr>\n",
       "  </thead>\n",
       "  <tbody>\n",
       "    <tr>\n",
       "      <th>0</th>\n",
       "      <td>SVR (C=0.01,kernel=linear)</td>\n",
       "      <td>78.595273</td>\n",
       "      <td>85.512479</td>\n",
       "    </tr>\n",
       "    <tr>\n",
       "      <th>1</th>\n",
       "      <td>SVR (C=0.01,kernel=poly)</td>\n",
       "      <td>107.061018</td>\n",
       "      <td>106.944398</td>\n",
       "    </tr>\n",
       "    <tr>\n",
       "      <th>2</th>\n",
       "      <td>SVR (C=0.01,kernel=rbf)</td>\n",
       "      <td>107.849898</td>\n",
       "      <td>106.810594</td>\n",
       "    </tr>\n",
       "    <tr>\n",
       "      <th>3</th>\n",
       "      <td>SVR (C=0.1,kernel=linear)</td>\n",
       "      <td>61.927338</td>\n",
       "      <td>72.551176</td>\n",
       "    </tr>\n",
       "    <tr>\n",
       "      <th>4</th>\n",
       "      <td>SVR (C=0.1,kernel=poly)</td>\n",
       "      <td>96.122849</td>\n",
       "      <td>102.794851</td>\n",
       "    </tr>\n",
       "    <tr>\n",
       "      <th>5</th>\n",
       "      <td>SVR (C=0.1,kernel=rbf)</td>\n",
       "      <td>93.175259</td>\n",
       "      <td>95.846112</td>\n",
       "    </tr>\n",
       "    <tr>\n",
       "      <th>6</th>\n",
       "      <td>SVR (C=1,kernel=linear)</td>\n",
       "      <td>58.242638</td>\n",
       "      <td>68.269781</td>\n",
       "    </tr>\n",
       "    <tr>\n",
       "      <th>7</th>\n",
       "      <td>SVR (C=1,kernel=poly)</td>\n",
       "      <td>71.136320</td>\n",
       "      <td>119.055041</td>\n",
       "    </tr>\n",
       "    <tr>\n",
       "      <th>8</th>\n",
       "      <td>SVR (C=1,kernel=rbf)</td>\n",
       "      <td>58.224402</td>\n",
       "      <td>70.018409</td>\n",
       "    </tr>\n",
       "    <tr>\n",
       "      <th>9</th>\n",
       "      <td>SVR (C=10,kernel=linear)</td>\n",
       "      <td>58.031517</td>\n",
       "      <td>68.133705</td>\n",
       "    </tr>\n",
       "    <tr>\n",
       "      <th>10</th>\n",
       "      <td>SVR (C=10,kernel=poly)</td>\n",
       "      <td>47.509781</td>\n",
       "      <td>76.018923</td>\n",
       "    </tr>\n",
       "    <tr>\n",
       "      <th>11</th>\n",
       "      <td>SVR (C=10,kernel=rbf)</td>\n",
       "      <td>30.846674</td>\n",
       "      <td>61.408842</td>\n",
       "    </tr>\n",
       "    <tr>\n",
       "      <th>12</th>\n",
       "      <td>SVR (C=100,kernel=linear)</td>\n",
       "      <td>58.033115</td>\n",
       "      <td>68.103154</td>\n",
       "    </tr>\n",
       "    <tr>\n",
       "      <th>13</th>\n",
       "      <td>SVR (C=100,kernel=poly)</td>\n",
       "      <td>23.740816</td>\n",
       "      <td>136.210108</td>\n",
       "    </tr>\n",
       "    <tr>\n",
       "      <th>14</th>\n",
       "      <td>SVR (C=100,kernel=rbf)</td>\n",
       "      <td>7.425268</td>\n",
       "      <td>70.351542</td>\n",
       "    </tr>\n",
       "  </tbody>\n",
       "</table>\n",
       "</div>"
      ],
      "text/plain": [
       "                    Model Name       Train        Test\n",
       "0   SVR (C=0.01,kernel=linear)   78.595273   85.512479\n",
       "1     SVR (C=0.01,kernel=poly)  107.061018  106.944398\n",
       "2      SVR (C=0.01,kernel=rbf)  107.849898  106.810594\n",
       "3    SVR (C=0.1,kernel=linear)   61.927338   72.551176\n",
       "4      SVR (C=0.1,kernel=poly)   96.122849  102.794851\n",
       "5       SVR (C=0.1,kernel=rbf)   93.175259   95.846112\n",
       "6      SVR (C=1,kernel=linear)   58.242638   68.269781\n",
       "7        SVR (C=1,kernel=poly)   71.136320  119.055041\n",
       "8         SVR (C=1,kernel=rbf)   58.224402   70.018409\n",
       "9     SVR (C=10,kernel=linear)   58.031517   68.133705\n",
       "10      SVR (C=10,kernel=poly)   47.509781   76.018923\n",
       "11       SVR (C=10,kernel=rbf)   30.846674   61.408842\n",
       "12   SVR (C=100,kernel=linear)   58.033115   68.103154\n",
       "13     SVR (C=100,kernel=poly)   23.740816  136.210108\n",
       "14      SVR (C=100,kernel=rbf)    7.425268   70.351542"
      ]
     },
     "execution_count": 20,
     "metadata": {},
     "output_type": "execute_result"
    }
   ],
   "source": [
    "pd.DataFrame(compare_svr)"
   ]
  },
  {
   "cell_type": "markdown",
   "metadata": {},
   "source": [
    "# Random Forest Optimization\n",
    "\n",
    "> In the case of a random forest, hyperparameters include the number of decision trees in the forest and the number of features considered by each tree when splitting a node. (The parameters of a random forest are the variables and thresholds used to split each node learned during training). Scikit-Learn implements a set of sensible default hyperparameters for all models, but these are not guaranteed to be optimal for a problem. The best hyperparameters are usually impossible to determine ahead of time, and tuning a model is where machine learning turns from a science into trial-and-error based engineering."
   ]
  },
  {
   "cell_type": "code",
   "execution_count": 21,
   "metadata": {},
   "outputs": [
    {
     "name": "stdout",
     "output_type": "stream",
     "text": [
      "Currently used params in Random Forest\n",
      "\n",
      "{'bootstrap': True, 'ccp_alpha': 0.0, 'criterion': 'squared_error', 'max_depth': None, 'max_features': 'auto', 'max_leaf_nodes': None, 'max_samples': None, 'min_impurity_decrease': 0.0, 'min_samples_leaf': 1, 'min_samples_split': 2, 'min_weight_fraction_leaf': 0.0, 'n_estimators': 100, 'n_jobs': None, 'oob_score': False, 'random_state': None, 'verbose': 0, 'warm_start': False}\n"
     ]
    }
   ],
   "source": [
    "rf=RandomForestRegressor()\n",
    "print('Currently used params in Random Forest\\n')\n",
    "print(rf.get_params())"
   ]
  },
  {
   "cell_type": "markdown",
   "metadata": {},
   "source": [
    "#### create random search grid"
   ]
  },
  {
   "cell_type": "code",
   "execution_count": 22,
   "metadata": {},
   "outputs": [],
   "source": [
    "# set params range/serach grid (individually)\n",
    "\n",
    "# Number of trees in random forest\n",
    "n_estimators = [int(x) for x in np.linspace(start = 200, stop = 2000, num = 10)]\n",
    "# Number of features to consider at every split\n",
    "max_features = ['auto', 'sqrt']\n",
    "# Maximum number of levels in tree\n",
    "max_depth = [int(x) for x in np.linspace(10, 110, num = 11)]\n",
    "max_depth.append(None)\n",
    "# Minimum number of samples required to split a node\n",
    "min_samples_split = [2, 5, 10]\n",
    "# Minimum number of samples required at each leaf node\n",
    "min_samples_leaf = [1, 2, 4]\n",
    "# Method of selecting samples for training each tree\n",
    "bootstrap = [True, False]\n",
    "\n",
    "# create random search grid\n",
    "random_grid={\n",
    "    'n_estimators': n_estimators,\n",
    "    'max_features': max_features,\n",
    "    'max_depth': max_depth,\n",
    "    'min_samples_split': min_samples_split,\n",
    "    'min_samples_leaf': min_samples_leaf,\n",
    "    'bootstrap': bootstrap\n",
    "}"
   ]
  },
  {
   "cell_type": "code",
   "execution_count": 23,
   "metadata": {},
   "outputs": [],
   "source": [
    "rf=RandomForestRegressor()\n",
    "\n",
    "rf_random = RandomizedSearchCV(estimator = rf, param_distributions = random_grid, n_iter = 100, cv = 3, verbose=2, random_state=42, n_jobs = -1)# Fit the random search model\n",
    "rf_random.fit(X_train_data_normalized, y_train_data)"
   ]
  },
  {
   "cell_type": "code",
   "execution_count": null,
   "metadata": {},
   "outputs": [
    {
     "ename": "NameError",
     "evalue": "name 'rf_random' is not defined",
     "output_type": "error",
     "traceback": [
      "\u001b[0;31m---------------------------------------------------------------------------\u001b[0m",
      "\u001b[0;31mNameError\u001b[0m                                 Traceback (most recent call last)",
      "\u001b[0;32m/tmp/ipykernel_36089/2407610184.py\u001b[0m in \u001b[0;36m<module>\u001b[0;34m\u001b[0m\n\u001b[0;32m----> 1\u001b[0;31m \u001b[0mrf_random\u001b[0m\u001b[0;34m.\u001b[0m\u001b[0mbest_params_\u001b[0m\u001b[0;34m\u001b[0m\u001b[0;34m\u001b[0m\u001b[0m\n\u001b[0m",
      "\u001b[0;31mNameError\u001b[0m: name 'rf_random' is not defined"
     ]
    }
   ],
   "source": [
    "rf_random.best_params_"
   ]
  },
  {
   "cell_type": "markdown",
   "metadata": {},
   "source": [
    "## why this one"
   ]
  },
  {
   "cell_type": "markdown",
   "metadata": {},
   "source": [
    "# importance of features\n",
    "\n",
    "- used best model(i.e. random forest) to knoe feature importance"
   ]
  },
  {
   "cell_type": "markdown",
   "metadata": {},
   "source": [
    "## How to choose feature importance\n",
    "\n",
    "- how does random forest chooses\n",
    "- For regression the measure of impurity is variance"
   ]
  },
  {
   "cell_type": "code",
   "execution_count": null,
   "metadata": {},
   "outputs": [],
   "source": []
  },
  {
   "cell_type": "code",
   "execution_count": 21,
   "metadata": {},
   "outputs": [
    {
     "name": "stdout",
     "output_type": "stream",
     "text": [
      "Variable: IT_WholeRate ::: 0.09 :Importance\n",
      "Variable: HighSchool_WholeRate ::: 0.04 :Importance\n",
      "Variable: MedianInc_WholeAvg ::: 0.03 :Importance\n",
      "Variable: republican_rate ::: 0.12 :Importance\n",
      "Variable: Segregation ::: 0.22 :Importance\n",
      "Variable: urban ::: 0.0 :Importance\n",
      "Variable: racial_weighted_bias ::: 0.04 :Importance\n",
      "Variable: hesitancy ::: 0.03 :Importance\n",
      "Variable: HighSchool_Disparity ::: 0.1 :Importance\n",
      "Variable: IT_Disparity ::: 0.05 :Importance\n",
      "Variable: MedianInc_Disparity ::: 0.06 :Importance\n",
      "Variable: vehicle ::: 0.04 :Importance\n",
      "Variable: FacNumRate ::: 0.03 :Importance\n",
      "Variable: CaseRate ::: 0.08 :Importance\n",
      "Variable: Black_Prop ::: 0.06 :Importance\n"
     ]
    }
   ],
   "source": [
    "rf_imp=RandomForestRegressor()\n",
    "\n",
    "rf_imp.fit(X_train_data_normalized,y_train_data)\n",
    "\n",
    "feature_names=list(X_train_data.columns)\n",
    "\n",
    "feature_imps=list(rf_imp.feature_importances_)\n",
    "\n",
    "l=[print(f'Variable: {name} ::: {round(imps,2)} :Importance') for name,imps in zip(feature_names,feature_imps)]"
   ]
  },
  {
   "cell_type": "markdown",
   "metadata": {},
   "source": [
    "### features importance in desending order"
   ]
  },
  {
   "cell_type": "code",
   "execution_count": 27,
   "metadata": {},
   "outputs": [
    {
     "name": "stdout",
     "output_type": "stream",
     "text": [
      "                   name  importance\n",
      "0           Segregation    0.215864\n",
      "1       republican_rate    0.122628\n",
      "2  HighSchool_Disparity    0.098376\n",
      "3          IT_WholeRate    0.089273\n",
      "4              CaseRate    0.081291\n",
      "5   MedianInc_Disparity    0.063183\n",
      "6            Black_Prop    0.057299\n",
      "7          IT_Disparity    0.052339\n"
     ]
    }
   ],
   "source": [
    "top_imps=8\n",
    "imp_df=pd.DataFrame({'name':feature_names,'importance':feature_imps})\n",
    "imp_df.sort_values('importance',kind='mergesort',ascending=False,inplace=True)\n",
    "imp_df.reset_index(drop=True,inplace=True)\n",
    "print(imp_df.head(top_imps))\n"
   ]
  },
  {
   "cell_type": "code",
   "execution_count": 28,
   "metadata": {},
   "outputs": [
    {
     "name": "stdout",
     "output_type": "stream",
     "text": [
      "Top 8 most important features are >>>  ['Segregation', 'republican_rate', 'HighSchool_Disparity', 'IT_WholeRate', 'CaseRate', 'MedianInc_Disparity', 'Black_Prop', 'IT_Disparity']\n"
     ]
    }
   ],
   "source": [
    "print(f'Top {str(top_imps)} most important features are >>> ',list(imp_df.head(top_imps)['name']))"
   ]
  },
  {
   "cell_type": "code",
   "execution_count": null,
   "metadata": {},
   "outputs": [],
   "source": [
    "def heatmap(thers):\n",
    "    corr_matrix = X_train_data.corr()\n",
    "    corr_matrix=corr_matrix[(corr_matrix>thers) | (corr_matrix<-thers)] # only selecte relations stronger than thersold\n",
    "    mask = np.zeros_like(corr_matrix,dtype=np.bool)\n",
    "    mask[np.triu_indices_from(mask)]= True\n",
    "\n",
    "    f, ax = plt.subplots(figsize=(20, 20))\n",
    "\n",
    "    heatmap = sns.heatmap(corr_matrix,\n",
    "                        mask = mask,\n",
    "                        square = True,\n",
    "                        linewidths = .5,\n",
    "                        cmap = 'coolwarm',\n",
    "                        cbar_kws = {'shrink': .4,\n",
    "                                    'ticks' : [-1, -0.5, 0, 0.5, 1]},\n",
    "                        vmin = -1,\n",
    "                        vmax = 1,\n",
    "                        annot = True,\n",
    "                        annot_kws = {'size': 12})\n",
    "\n",
    "    #add the column names as labels\n",
    "    ax.set_yticklabels(corr_matrix.columns, rotation = 0)\n",
    "    ax.set_xticklabels(corr_matrix.columns)\n",
    "    ax.set_title(\"Correlation Heatmap of Training Data\",fontsize=18)\n",
    "    sns.set_style({'xtick.bottom': True}, {'ytick.left': True})\n",
    "    # f.savefig('correlation.jpg')"
   ]
  },
  {
   "cell_type": "markdown",
   "metadata": {},
   "source": [
    "## observation for selections"
   ]
  }
 ],
 "metadata": {
  "interpreter": {
   "hash": "365d70965140afb04a698773bfdd31483bc82432b779112c2a78b5de7c16d125"
  },
  "kernelspec": {
   "display_name": "Python 3.8.5 64-bit ('base': conda)",
   "name": "python3"
  },
  "language_info": {
   "codemirror_mode": {
    "name": "ipython",
    "version": 3
   },
   "file_extension": ".py",
   "mimetype": "text/x-python",
   "name": "python",
   "nbconvert_exporter": "python",
   "pygments_lexer": "ipython3",
   "version": "3.8.5"
  },
  "orig_nbformat": 4
 },
 "nbformat": 4,
 "nbformat_minor": 2
}
