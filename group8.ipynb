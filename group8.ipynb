{
 "cells": [
  {
   "cell_type": "markdown",
   "metadata": {},
   "source": [
    "# Course Project – IME692, Fall 2021\n",
    "\n",
    "#### Develop  a  predictive  model  in  which  the  dependent variable  isCvdVax_DisparityY.  Your  task  is  to examine  the  role  of  different  socioeconomic and  demographic  variables  indetermining  thecovid-19 vaccination rate disparities. Note following points to complete this project.\n",
    "\n",
    "(1)You  are  free  to  choose  any prediction/regression model  to  examine  the  role  of  predictors  in determining CvdVax_DisparityY.  But  use  only  data labelledas “train” for the model building purpose. Evaluate the performance ofyourmodels on the test data.\n",
    "\n",
    "(2)Report three models that give best result on the test dataset. Mentionthe final model that you would select. Explainthe reason for its selection. \n",
    "\n",
    "(3)How would you assess the importance of different predictors in your model? Which predictors are most important in determining the racial disparity in covid-19 vaccinate rate? \n",
    "\n",
    "(4)Areyour  findings  similar  to  the resultsreported  by  authors  in  Table  1of  the  article  (see  the hyperlink above)? If not, why? \n",
    "\n",
    "(5)Upload Python/R code with your project report. "
   ]
  },
  {
   "cell_type": "markdown",
   "metadata": {},
   "source": [
    "# programme structure and points"
   ]
  },
  {
   "cell_type": "markdown",
   "metadata": {},
   "source": [
    "# libraries required"
   ]
  },
  {
   "cell_type": "code",
   "execution_count": 157,
   "metadata": {},
   "outputs": [],
   "source": [
    "# basic modules\n",
    "import numpy as np\n",
    "import pandas as pd\n",
    "\n",
    "# plot modules\n",
    "import matplotlib.pyplot as plt\n",
    "import seaborn as sns\n",
    "\n",
    "# analysis modules\n",
    "## pre-process and metrics\n",
    "from sklearn.decomposition import PCA\n",
    "from sklearn.metrics import mean_squared_error\n",
    "from sklearn.preprocessing import StandardScaler\n",
    "\n",
    "## linear analysis\n",
    "from sklearn.linear_model import LinearRegression\n",
    "from sklearn.linear_model import ElasticNet,ElasticNetCV\n",
    "from sklearn.linear_model import Ridge,RidgeCV\n",
    "from sklearn.linear_model import Lasso,LassoCV\n",
    "import statsmodels.api as sm\n",
    "\n",
    "## random forest\n",
    "from sklearn.ensemble import RandomForestRegressor\n",
    "\n",
    "## svm analysis\n",
    "from sklearn.svm import SVR\n",
    "\n"
   ]
  },
  {
   "cell_type": "markdown",
   "metadata": {},
   "source": [
    "# pre-process"
   ]
  },
  {
   "cell_type": "markdown",
   "metadata": {},
   "source": [
    "### split test-train\n",
    "\n",
    "- separate independant and dependant variables\n",
    "- dropped state and county columns \n",
    "    - since all variables are numeric except State and County Name"
   ]
  },
  {
   "cell_type": "code",
   "execution_count": 158,
   "metadata": {},
   "outputs": [
    {
     "name": "stdout",
     "output_type": "stream",
     "text": [
      "==========================================\n",
      "No of testing observations:  225\n",
      "No of training observations:  531\n",
      "==========================================\n"
     ]
    }
   ],
   "source": [
    "data=pd.read_csv('ime692_project.csv')\n",
    "\n",
    "# avoid State and County name\n",
    "cols=data.columns[2:].to_list()\n",
    "data=data[cols]\n",
    "\n",
    "# seperate data into test and train based on `Test` indicator\n",
    "pd.options.mode.chained_assignment = None  # default='warn' --> to supress chain assignment warning <--\n",
    "test_data=data.loc[data.Test==1] ## previous indices could be useful ##\n",
    "train_data=data.loc[data.Test==0]\n",
    "\n",
    "# assert split\n",
    "print(\"==========================================\")\n",
    "print(\"No of testing observations: \",test_data.shape[0])\n",
    "print(\"No of training observations: \",train_data.shape[0])\n",
    "print(\"==========================================\")\n",
    "\n",
    "# drop the indicator inplace\n",
    "test_data.drop('Test',axis=1,inplace=True)\n",
    "train_data.drop('Test',axis=1,inplace=True)\n",
    "\n",
    "# sepearate predicted and regressor variables\n",
    "y_test_data=test_data['CvdVax_DisparityY'].tolist()\n",
    "X_test_data=test_data.drop('CvdVax_DisparityY',axis=1)\n",
    "y_train_data=train_data['CvdVax_DisparityY'].tolist()\n",
    "X_train_data=train_data.drop('CvdVax_DisparityY',axis=1)"
   ]
  },
  {
   "cell_type": "markdown",
   "metadata": {},
   "source": [
    "### normalization\n",
    "\n",
    "- z-score normalization is being done on features\n",
    "    - can work with min-max also\n",
    "- no need to normalize dependent variable"
   ]
  },
  {
   "cell_type": "code",
   "execution_count": 159,
   "metadata": {},
   "outputs": [],
   "source": [
    "scalerInst=StandardScaler()\n",
    "X_train_data_normalized=scalerInst.fit_transform(X_train_data)\n",
    "X_test_data_normalized=scalerInst.fit_transform(X_test_data)"
   ]
  },
  {
   "cell_type": "markdown",
   "metadata": {},
   "source": [
    "### Which variables to use(PCA)\n",
    "\n",
    "- to check which features to use for further analysis\n",
    "- if small no of features can explain significant variance then work with them only to avoid model becoming complex\n",
    "    - if not then can not avoid features"
   ]
  },
  {
   "cell_type": "code",
   "execution_count": 160,
   "metadata": {},
   "outputs": [
    {
     "data": {
      "image/png": "[encoded data removed]",
      "text/plain": [
       "<Figure size 432x288 with 1 Axes>"
      ]
     },
     "metadata": {
      "needs_background": "light"
     },
     "output_type": "display_data"
    }
   ],
   "source": [
    "n=X_train_data_normalized.shape[1]\n",
    "pca=PCA(n_components=n)\n",
    "X_train_data_transformed=pca.fit_transform(X_train_data_normalized)\n",
    "X_test_data_transformed=pca.fit_transform(X_test_data_normalized)\n",
    "\n",
    "foo_ratio=pca.explained_variance_ratio_\n",
    "\n",
    "# to get cummulative\n",
    "var_ratio=[]\n",
    "for i in range(n):\n",
    "    var_ratio.append(100*sum(foo_ratio[0:i+1]))\n",
    "\n",
    "# plotting the variance explined curve (in %)\n",
    "ax=sns.scatterplot(x=np.arange(n)+1,y=var_ratio)\n",
    "ax.axhline(95,color='red')\n",
    "plt.title('variance explained by features')\n",
    "plt.xlabel('# of features')\n",
    "plt.ylabel('vaiance explained in %')\n",
    "plt.xticks(np.arange(n)+1)\n",
    "plt.show() # to avoid text outputs\n",
    "# plt.savefig('pca.png')"
   ]
  },
  {
   "cell_type": "markdown",
   "metadata": {},
   "source": [
    "\n",
    "**observations**\n",
    "\n",
    "- PCA is not a good techniqe for this problem \n",
    "    - as no small number set of features explain variance quite significantly\n",
    "    - if around 5-6 features would have explained around 90-95% variance then PCA would have been helpful, but that is not the case here"
   ]
  },
  {
   "cell_type": "markdown",
   "metadata": {},
   "source": [
    "# functions for analysis\n",
    "\n",
    "- function `model` uses test and train data with global scope\n",
    "- these functions have been used throught the project"
   ]
  },
  {
   "cell_type": "markdown",
   "metadata": {},
   "source": [
    "### function to plot coef plots for models\n",
    "\n",
    "**`function parameters:`**\n",
    "- coefDf: coef data frame with column names from project data\n",
    "- name: [used as an identifier] name to be printed in plots"
   ]
  },
  {
   "cell_type": "code",
   "execution_count": 161,
   "metadata": {},
   "outputs": [],
   "source": [
    "def coefplot(coefDf,name):\n",
    "    # to tweak default barh visual\n",
    "    kwargs={\n",
    "    'alpha':0.8,\n",
    "    'edgecolor':'#333',\n",
    "    'facecolor':'#eef',\n",
    "    'width':0.2\n",
    "    }\n",
    "    # to plot barh\n",
    "    (coefDf['Weight of Coeff'].sort_values(ascending = False,kind='mergesort')).plot.barh(figsize=(8,8),**kwargs)\n",
    "    plt.title(f'Importance of Coeff- {name}')\n",
    "    plt.xlabel(\"Importance\")\n",
    "    plt.ylabel('Features')\n",
    "    plt.show()"
   ]
  },
  {
   "cell_type": "markdown",
   "metadata": {},
   "source": [
    "### general function for models\n",
    "\n",
    "**`function parameters:`**\n",
    "- plot: `Bool`\n",
    "    - by default is set to `False`, to plot feature coeffs set it to `True`float\n",
    "- c: `float`\n",
    "    - tuning hyperparameter used for SVR model, default to 0.1\n",
    "- kernel: ['linear', 'poly', 'rbf', 'sigmoid']\n",
    "    - kernel used for SVR model, default to `linear`\n",
    "- model_title: [used as an identifier]name to be printed in plots etc\n",
    "- modelName: model `class` name imported from `sklearn`"
   ]
  },
  {
   "cell_type": "code",
   "execution_count": 162,
   "metadata": {},
   "outputs": [],
   "source": [
    "def model(modelName,model_title,kernel='linear',c=0.1,plot=False):\n",
    "    if modelName==SVR:\n",
    "        rm=modelName(kernel=kernel,C=c)\n",
    "    else:\n",
    "        rm=modelName()\n",
    "    \n",
    "    rm.fit(X_train_data_normalized,y_train_data)\n",
    "\n",
    "    # test mse\n",
    "    preds_test=rm.predict(X_test_data_normalized)\n",
    "    MSE_test=mean_squared_error(y_test_data,preds_test)\n",
    "\n",
    "    # train mse\n",
    "    preds_train=rm.predict(X_train_data_normalized)\n",
    "    MSE_train=mean_squared_error(y_train_data,preds_train)\n",
    "\n",
    "    print(model_title)\n",
    "    print(''.center(30,'='))\n",
    "    print('Train MSE =',round(MSE_train,2))\n",
    "    print('Test MSE =',round(MSE_test,2))\n",
    "    print(''.center(30,'='))\n",
    "\n",
    "    if plot==True:\n",
    "        print('Relative Feature Importance Plot')\n",
    "        kwargs={\n",
    "            'alpha':0.8,\n",
    "            'edgecolor':'#333',\n",
    "            'facecolor':'#eef',\n",
    "            'width':0.2\n",
    "            }\n",
    "        # to plot barh\n",
    "        coefDf = pd.DataFrame(rm.coef_.T, columns=['Weight of Coeff'], index=X_train_data.columns)\n",
    "        (coefDf['Weight of Coeff'].sort_values(ascending = False,kind='mergesort')).plot.barh(figsize=(8,8),**kwargs)\n",
    "        plt.title(f'Importance of Coeff- {model_title}')\n",
    "        plt.xlabel(\"Importance\")\n",
    "        plt.ylabel('Features')\n",
    "        plt.show()\n",
    "\n",
    "    return {'Model Name':model_title ,'Train':MSE_train,'Test':MSE_test}"
   ]
  },
  {
   "cell_type": "code",
   "execution_count": 163,
   "metadata": {},
   "outputs": [],
   "source": [
    "# intialize lists to compare models\n",
    "model_compare=[]\n",
    "linear_models_compare=[]"
   ]
  },
  {
   "cell_type": "markdown",
   "metadata": {},
   "source": [
    "# linear model"
   ]
  },
  {
   "cell_type": "markdown",
   "metadata": {},
   "source": [
    "### normal multiple linear regression"
   ]
  },
  {
   "cell_type": "code",
   "execution_count": 164,
   "metadata": {},
   "outputs": [
    {
     "name": "stdout",
     "output_type": "stream",
     "text": [
      "Normal Linear Regression\n",
      "==============================\n",
      "Train MSE = 56.27\n",
      "Test MSE = 68.35\n",
      "==============================\n"
     ]
    }
   ],
   "source": [
    "lm=model(LinearRegression,'Normal Linear Regression')\n",
    "model_compare.append(lm)\n",
    "linear_models_compare.append(lm)"
   ]
  },
  {
   "cell_type": "markdown",
   "metadata": {},
   "source": [
    "### restricted regression models\n",
    "\n",
    "- here restricted models are, specifically: \n",
    "    - lasso(l1 norm)\n",
    "    - ridge(l2 norm)\n",
    "    - elastinet(l1 and l2 norm)\n",
    "- we have seen linear model without any restrictions; now to try out this with restrictions we have included these models\n",
    "- we will compare these models with normal linear model in two cases:\n",
    "    - first case: with default alpha\n",
    "    - second case: with best alpha in search space [to see if there is any improvement]"
   ]
  },
  {
   "cell_type": "markdown",
   "metadata": {},
   "source": [
    "#### model names and titles"
   ]
  },
  {
   "cell_type": "code",
   "execution_count": 165,
   "metadata": {},
   "outputs": [],
   "source": [
    "models=[\n",
    "    {\n",
    "        'title':'Lasso Regression Model',\n",
    "        'name':Lasso,\n",
    "        'cv':LassoCV\n",
    "    },\n",
    "    {\n",
    "        'title':'Ridge Regression Model',\n",
    "        'name':Ridge,\n",
    "        'cv':RidgeCV\n",
    "    },\n",
    "    {\n",
    "        'title':'Elastinet Regression Model',\n",
    "        'name':ElasticNet,\n",
    "        'cv':ElasticNetCV\n",
    "    }\n",
    "]"
   ]
  },
  {
   "cell_type": "markdown",
   "metadata": {},
   "source": [
    "#### func used to cover with restrictions linear regression models\n",
    "\n",
    "**`function params`**\n",
    "\n",
    "- cvFolds: no of folds to be used to choose best alpha in search space\n",
    "- title, modelName, modelCV: self-explanatory"
   ]
  },
  {
   "cell_type": "code",
   "execution_count": 166,
   "metadata": {},
   "outputs": [],
   "source": [
    "# func used to cover with restrictions linear regression models\n",
    "def restrictModels(title,modelName,modelCV,cvFolds=10,plot=False):\n",
    "    # choosing alpha hyperparameter\n",
    "    ## create search space\n",
    "    r=np.linspace(-3,10,100)\n",
    "    alphas=np.power(10*np.ones(100),r)\n",
    "    ## get best possible alpha in search space\n",
    "    rcv=modelCV(alphas=alphas,cv=cvFolds)\n",
    "    rcv.fit(X_train_data_normalized,y_train_data)\n",
    "    cvAlpha=rcv.alpha_\n",
    "\n",
    "    # fit model\n",
    "    rlm=modelName(alpha=cvAlpha)\n",
    "    rlm.fit(X_train_data_normalized,y_train_data)\n",
    "\n",
    "    # test mse\n",
    "    preds_test=rlm.predict(X_test_data_normalized)\n",
    "    MSE_test=mean_squared_error(y_test_data,preds_test)\n",
    "\n",
    "    # train mse\n",
    "    preds_train=rlm.predict(X_train_data_normalized)\n",
    "    MSE_train=mean_squared_error(y_train_data,preds_train)\n",
    "\n",
    "    # some nice formatting\n",
    "    print(title)\n",
    "    print(''.center(30,'='))\n",
    "    print(f'CV alpha =',round(cvAlpha,2))\n",
    "    print(f'Train MSE =',round(MSE_train,2))\n",
    "    print(f'Test MSE =',round(MSE_test,2))\n",
    "    print(''.center(30,'='))\n",
    "\n",
    "    if plot:\n",
    "        # plot\n",
    "        coefDf = pd.DataFrame(rlm.coef_.T, columns=['Weight of Coeff'], index=X_train_data.columns)\n",
    "        coefplot(coefDf,title)\n",
    "\n",
    "    # return data dict\n",
    "    return {'Model Name':title,'Train':MSE_train,'Test':MSE_test}"
   ]
  },
  {
   "cell_type": "markdown",
   "metadata": {},
   "source": [
    "#### implementation for comparision[first case]"
   ]
  },
  {
   "cell_type": "code",
   "execution_count": 167,
   "metadata": {},
   "outputs": [
    {
     "name": "stdout",
     "output_type": "stream",
     "text": [
      "Lasso Regression Model(first-case)\n",
      "==============================\n",
      "Train MSE = 67.98\n",
      "Test MSE = 75.7\n",
      "==============================\n",
      "Ridge Regression Model(first-case)\n",
      "==============================\n",
      "Train MSE = 56.27\n",
      "Test MSE = 68.37\n",
      "==============================\n",
      "Elastinet Regression Model(first-case)\n",
      "==============================\n",
      "Train MSE = 68.39\n",
      "Test MSE = 77.61\n",
      "==============================\n"
     ]
    }
   ],
   "source": [
    "for m in models:\n",
    "    linear_models_compare.append(model(m['name'],m['title']+'(first-case)'))\n",
    "\n",
    "restrictedDf=pd.DataFrame(linear_models_compare)"
   ]
  },
  {
   "cell_type": "markdown",
   "metadata": {},
   "source": [
    "#### implementation for comparision[second case]"
   ]
  },
  {
   "cell_type": "code",
   "execution_count": 168,
   "metadata": {},
   "outputs": [
    {
     "name": "stdout",
     "output_type": "stream",
     "text": [
      "Lasso Regression Model(second-case)\n",
      "==============================\n",
      "CV alpha = 0.01\n",
      "Train MSE = 56.27\n",
      "Test MSE = 68.32\n",
      "==============================\n",
      "Ridge Regression Model(second-case)\n",
      "==============================\n",
      "CV alpha = 53.37\n",
      "Train MSE = 57.41\n",
      "Test MSE = 69.89\n",
      "==============================\n",
      "Elastinet Regression Model(second-case)\n",
      "==============================\n",
      "CV alpha = 0.04\n",
      "Train MSE = 56.4\n",
      "Test MSE = 68.54\n",
      "==============================\n"
     ]
    }
   ],
   "source": [
    "for m in models:\n",
    "    linear_models_compare.append(restrictModels(m['title']+'(second-case)',m['name'],m['cv']))\n",
    "\n",
    "restrictedDf=pd.DataFrame(linear_models_compare)"
   ]
  },
  {
   "cell_type": "markdown",
   "metadata": {},
   "source": [
    "#### Observations\n",
    "- although there is some improvement when using optimum alpha(i.e. second case) in restricted linear models, but not enough to surpass normal linear model\n",
    "- it is quite clear from MSE errors that all restricted models perform equally well or worse than simple linear regression model, on test data\n",
    "- And we shall choose model that is simple rather than complex and gives around same accuracy, \n",
    "    - Hence, we `choose normal linear regression `without any restriction on its coefficients"
   ]
  },
  {
   "cell_type": "code",
   "execution_count": 169,
   "metadata": {},
   "outputs": [
    {
     "data": {
      "text/html": [
       "<div>\n",
       "<style scoped>\n",
       "    .dataframe tbody tr th:only-of-type {\n",
       "        vertical-align: middle;\n",
       "    }\n",
       "\n",
       "    .dataframe tbody tr th {\n",
       "        vertical-align: top;\n",
       "    }\n",
       "\n",
       "    .dataframe thead th {\n",
       "        text-align: right;\n",
       "    }\n",
       "</style>\n",
       "<table border=\"1\" class=\"dataframe\">\n",
       "  <thead>\n",
       "    <tr style=\"text-align: right;\">\n",
       "      <th></th>\n",
       "      <th>Model Name</th>\n",
       "      <th>Train</th>\n",
       "      <th>Test</th>\n",
       "    </tr>\n",
       "  </thead>\n",
       "  <tbody>\n",
       "    <tr>\n",
       "      <th>0</th>\n",
       "      <td>Normal Linear Regression</td>\n",
       "      <td>56.266316</td>\n",
       "      <td>68.353944</td>\n",
       "    </tr>\n",
       "    <tr>\n",
       "      <th>1</th>\n",
       "      <td>Lasso Regression Model(first-case)</td>\n",
       "      <td>67.983229</td>\n",
       "      <td>75.702897</td>\n",
       "    </tr>\n",
       "    <tr>\n",
       "      <th>2</th>\n",
       "      <td>Ridge Regression Model(first-case)</td>\n",
       "      <td>56.267138</td>\n",
       "      <td>68.370663</td>\n",
       "    </tr>\n",
       "    <tr>\n",
       "      <th>3</th>\n",
       "      <td>Elastinet Regression Model(first-case)</td>\n",
       "      <td>68.387424</td>\n",
       "      <td>77.608423</td>\n",
       "    </tr>\n",
       "    <tr>\n",
       "      <th>4</th>\n",
       "      <td>Lasso Regression Model(second-case)</td>\n",
       "      <td>56.268864</td>\n",
       "      <td>68.319383</td>\n",
       "    </tr>\n",
       "    <tr>\n",
       "      <th>5</th>\n",
       "      <td>Ridge Regression Model(second-case)</td>\n",
       "      <td>57.409528</td>\n",
       "      <td>69.890832</td>\n",
       "    </tr>\n",
       "    <tr>\n",
       "      <th>6</th>\n",
       "      <td>Elastinet Regression Model(second-case)</td>\n",
       "      <td>56.398309</td>\n",
       "      <td>68.536873</td>\n",
       "    </tr>\n",
       "  </tbody>\n",
       "</table>\n",
       "</div>"
      ],
      "text/plain": [
       "                                Model Name      Train       Test\n",
       "0                 Normal Linear Regression  56.266316  68.353944\n",
       "1       Lasso Regression Model(first-case)  67.983229  75.702897\n",
       "2       Ridge Regression Model(first-case)  56.267138  68.370663\n",
       "3   Elastinet Regression Model(first-case)  68.387424  77.608423\n",
       "4      Lasso Regression Model(second-case)  56.268864  68.319383\n",
       "5      Ridge Regression Model(second-case)  57.409528  69.890832\n",
       "6  Elastinet Regression Model(second-case)  56.398309  68.536873"
      ]
     },
     "execution_count": 169,
     "metadata": {},
     "output_type": "execute_result"
    }
   ],
   "source": [
    "restrictedDf"
   ]
  },
  {
   "cell_type": "markdown",
   "metadata": {},
   "source": [
    "# Random Forest"
   ]
  },
  {
   "cell_type": "code",
   "execution_count": 170,
   "metadata": {},
   "outputs": [
    {
     "name": "stdout",
     "output_type": "stream",
     "text": [
      "Random Forest\n",
      "==============================\n",
      "Train MSE = 8.13\n",
      "Test MSE = 62.54\n",
      "==============================\n"
     ]
    }
   ],
   "source": [
    "rf=model(RandomForestRegressor,'Random Forest')\n",
    "model_compare.append(rf)"
   ]
  },
  {
   "cell_type": "markdown",
   "metadata": {},
   "source": [
    "# Support Vector Resgression"
   ]
  },
  {
   "cell_type": "code",
   "execution_count": 173,
   "metadata": {},
   "outputs": [
    {
     "name": "stdout",
     "output_type": "stream",
     "text": [
      "Support Vector Resgression\n",
      "==============================\n",
      "Train MSE = 61.93\n",
      "Test MSE = 72.55\n",
      "==============================\n"
     ]
    }
   ],
   "source": [
    "svr=model(SVR,'Support Vector Resgression')\n",
    "model_compare.append(svr)"
   ]
  },
  {
   "cell_type": "markdown",
   "metadata": {},
   "source": [
    "### tuning hyperparameter(C) in SVR\n",
    "\n",
    "- till now we have random forest \n",
    "- to see if SVR outperforms random after tuning `C`, we do:\n",
    "    - work with bunch of different values of `C` and see if any one does better than Random Forest"
   ]
  },
  {
   "cell_type": "code",
   "execution_count": 175,
   "metadata": {},
   "outputs": [
    {
     "name": "stdout",
     "output_type": "stream",
     "text": [
      "SVR (0.1)\n",
      "==============================\n",
      "Train MSE = 61.93\n",
      "Test MSE = 72.55\n",
      "==============================\n",
      "SVR (1)\n",
      "==============================\n",
      "Train MSE = 58.24\n",
      "Test MSE = 68.27\n",
      "==============================\n",
      "SVR (10)\n",
      "==============================\n",
      "Train MSE = 58.03\n",
      "Test MSE = 68.13\n",
      "==============================\n",
      "SVR (100)\n",
      "==============================\n",
      "Train MSE = 58.03\n",
      "Test MSE = 68.1\n",
      "==============================\n"
     ]
    }
   ],
   "source": [
    "# optimizing the parameter C in SVC\n",
    "C=[0.01,0.1,1,10,100]\n",
    "kernels=['linear', 'poly', 'rbf']\n",
    "compare_svr=[]\n",
    "for c in C:\n",
    "    for k in kernels:\n",
    "        compare_svr.append(model(SVR,f'SVR (C={c},kernel={k})',kernel=k,c=c))"
   ]
  },
  {
   "cell_type": "markdown",
   "metadata": {},
   "source": [
    "# Best one: {which one}"
   ]
  },
  {
   "cell_type": "markdown",
   "metadata": {},
   "source": [
    "## why this one"
   ]
  },
  {
   "cell_type": "markdown",
   "metadata": {},
   "source": [
    "# feature selector"
   ]
  },
  {
   "cell_type": "code",
   "execution_count": null,
   "metadata": {},
   "outputs": [],
   "source": [
    "def heatmap(thers):\n",
    "    corr_matrix = X_train_data.corr()\n",
    "    corr_matrix=corr_matrix[(corr_matrix>thers) | (corr_matrix<-thers)] # only selecte relations stronger than thersold\n",
    "    mask = np.zeros_like(corr_matrix,dtype=np.bool)\n",
    "    mask[np.triu_indices_from(mask)]= True\n",
    "\n",
    "    f, ax = plt.subplots(figsize=(20, 20))\n",
    "\n",
    "    heatmap = sns.heatmap(corr_matrix,\n",
    "                        mask = mask,\n",
    "                        square = True,\n",
    "                        linewidths = .5,\n",
    "                        cmap = 'coolwarm',\n",
    "                        cbar_kws = {'shrink': .4,\n",
    "                                    'ticks' : [-1, -0.5, 0, 0.5, 1]},\n",
    "                        vmin = -1,\n",
    "                        vmax = 1,\n",
    "                        annot = True,\n",
    "                        annot_kws = {'size': 12})\n",
    "\n",
    "    #add the column names as labels\n",
    "    ax.set_yticklabels(corr_matrix.columns, rotation = 0)\n",
    "    ax.set_xticklabels(corr_matrix.columns)\n",
    "    ax.set_title(\"Correlation Heatmap of Training Data\",fontsize=18)\n",
    "    sns.set_style({'xtick.bottom': True}, {'ytick.left': True})\n",
    "    # f.savefig('correlation.jpg')"
   ]
  },
  {
   "cell_type": "markdown",
   "metadata": {},
   "source": [
    "## observation for selections"
   ]
  }
 ],
 "metadata": {
  "interpreter": {
   "hash": "365d70965140afb04a698773bfdd31483bc82432b779112c2a78b5de7c16d125"
  },
  "kernelspec": {
   "display_name": "Python 3.8.5 64-bit ('base': conda)",
   "name": "python3"
  },
  "language_info": {
   "codemirror_mode": {
    "name": "ipython",
    "version": 3
   },
   "file_extension": ".py",
   "mimetype": "text/x-python",
   "name": "python",
   "nbconvert_exporter": "python",
   "pygments_lexer": "ipython3",
   "version": "3.8.5"
  },
  "orig_nbformat": 4
 },
 "nbformat": 4,
 "nbformat_minor": 2
}
