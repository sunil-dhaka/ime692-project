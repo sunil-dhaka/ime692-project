{
 "cells": [
  {
   "cell_type": "markdown",
   "source": [
    "# Question:\n",
    "Develop  a  predictive  model  in  which  the  dependent variable  isCvdVax_DisparityY.  Your  task  is  to examine  the  role  of  different  socioeconomic and  demographic  variables  indetermining  thecovid-19 vaccination rate disparities. Note following points to complete this project. \n",
    "\n",
    "(1)You  are  free  to  choose  any prediction/regression model  to  examine  the  role  of  predictors  in determining CvdVax_DisparityY.  But  use  only  data labelledas “train” for the model building purpose. Evaluate the performance ofyourmodels on the test data.\n",
    "\n",
    "(2)Report three models that give best result on the test dataset. Mentionthe final model that you would select. Explainthe reason for its selection. \n",
    "\n",
    "(3)How would you assess the importance of different predictors in your model? Which predictors are most important in determining the racial disparity in covid-19 vaccinate rate? \n",
    "\n",
    "(4)Areyour  findings  similar  to  the resultsreported  by  authors  in  Table  1of  the  article  (see  the hyperlink above)? If not, why? \n",
    "\n",
    "(5)Upload Python/R code with your project report. "
   ],
   "metadata": {}
  },
  {
   "cell_type": "markdown",
   "source": [
    "# IME-project\n",
    "- Examine the relationship between social determinants of health and racial disparitiesin covid-19vaccinationat the county level in US\n",
    "- dates worked:\n",
    "    - date: 28-09 --> understanding the data variables"
   ],
   "metadata": {}
  },
  {
   "cell_type": "code",
   "execution_count": 1,
   "source": [
    "import numpy as np\n",
    "import pandas as pd\n",
    "import matplotlib.pyplot as plt\n",
    "import seaborn as sns\n",
    "from sklearn.decomposition import PCA\n",
    "from sklearn.linear_model import LinearRegression\n",
    "\n",
    "%matplotlib inline "
   ],
   "outputs": [
    {
     "output_type": "stream",
     "name": "stderr",
     "text": [
      "/home/sunild/.local/lib/python3.8/site-packages/matplotlib_inline/config.py:66: DeprecationWarning: InlineBackend._figure_formats_changed is deprecated in traitlets 4.1: use @observe and @unobserve instead.\n",
      "  def _figure_formats_changed(self, name, old, new):\n"
     ]
    }
   ],
   "metadata": {}
  },
  {
   "cell_type": "code",
   "execution_count": 2,
   "source": [
    "data=pd.read_csv('ime692_project.csv')\n",
    "\n",
    "# seperate data into test and train based on `Test` indicator\n",
    "pd.options.mode.chained_assignment = None  # default='warn' --> to supress chain assignment warning <--\n",
    "test_data=data.loc[data.Test==1] ## previous indices could be useful ##\n",
    "train_data=data.loc[data.Test==0]\n",
    "print(\"==========================================\")\n",
    "print(\"No of testing observations: \",test_data.shape[0])\n",
    "print(\"No of training observations: \",train_data.shape[0])\n",
    "print(\"==========================================\")\n",
    "\n",
    "# drop the indicator inplace\n",
    "test_data.drop('Test',axis=1,inplace=True)\n",
    "train_data.drop('Test',axis=1,inplace=True)\n",
    "\n",
    "# sepearate predicted and regressor variables\n",
    "y_test_data=test_data['CvdVax_DisparityY'].tolist()\n",
    "X_test_data=test_data.drop('CvdVax_DisparityY',axis=1)\n",
    "y_train_data=train_data['CvdVax_DisparityY'].tolist()\n",
    "X_train_data=train_data.drop('CvdVax_DisparityY',axis=1)\n"
   ],
   "outputs": [
    {
     "output_type": "stream",
     "name": "stdout",
     "text": [
      "==========================================\n",
      "No of testing observations:  225\n",
      "No of training observations:  531\n",
      "==========================================\n"
     ]
    }
   ],
   "metadata": {}
  },
  {
   "cell_type": "code",
   "execution_count": 3,
   "source": [
    "## initial data analysis\n",
    "print(data.shape)\n",
    "print(data.columns)"
   ],
   "outputs": [
    {
     "output_type": "stream",
     "name": "stdout",
     "text": [
      "(756, 19)\n",
      "Index(['State', 'County', 'IT_WholeRate', 'HighSchool_WholeRate',\n",
      "       'MedianInc_WholeAvg', 'republican_rate', 'Segregation', 'urban',\n",
      "       'racial_weighted_bias', 'hesitancy', 'HighSchool_Disparity',\n",
      "       'IT_Disparity', 'MedianInc_Disparity', 'CvdVax_DisparityY', 'vehicle',\n",
      "       'FacNumRate', 'CaseRate', 'Black_Prop', 'Test'],\n",
      "      dtype='object')\n"
     ]
    }
   ],
   "metadata": {}
  },
  {
   "cell_type": "markdown",
   "source": [
    "### Which variables to use(PCA):\n",
    "- All variables are numeric except State and County Name -\n",
    "    - also urban(1)/rural(0): but can I keep it off for the moment? IG yes.\n",
    "- Normalization: which `z-score` or `min-max`\n",
    "- Role of predictors: `some score based approach ?`\n",
    "    - disparity variables must be included for `y`\n",
    "    - Other factors also affect but are they worth including with model complexity there\n",
    "    - Variable matching(6): `overall -- difference`\n",
    "        - IT_WholeRate -- IT_Disparity\n",
    "        - MedianInc_WholeAvg -- MedianInc_Disparity\n",
    "        - HighSchool_WholeRate -- HighSchool_Disparity\n",
    "    - `Seems` Imp for `y`: \n",
    "        - racial_weighted_bias\n",
    "        - Segregation\n",
    "        - republican_rate\n",
    "        - `hesitancy` :smoking: ?\n",
    "        - FacNumRate(economic)\n",
    "    - `Less` imp for `y`:\n",
    "        - vehicle(economic)\n",
    "        - CaseRate\n",
    "        - Black_Prop\n",
    "- To be honest all seems important; that is why they included right ... but relatievly which ones are more and less ... that need to be seen\n",
    "- real question to answer would be is there any role of previliages(economic-social) and political alliances; it seems so from intuitoin but what does the data tell us?"
   ],
   "metadata": {}
  },
  {
   "cell_type": "markdown",
   "source": [
    "### Which models for prediction/regression of `y`? \n",
    "1. A: basic things is to keep model as simple as possible with few variables to exaplain(`PCA` can be done here to check explained variability by a particular variable/regressor), if possible.\n",
    "    - Multi-linear regression model (linear or not?): covariance or other measures of linearity could be used to check.\n",
    "    - Decision tree: regression trees\n",
    "    - NN 😄\n",
    "    - Prob. gaussian(linear special case) model"
   ],
   "metadata": {}
  },
  {
   "cell_type": "markdown",
   "source": [
    "### Concepts from class:\n",
    "- PCA: to check variability explained by variables and dim reduction\n",
    "- Linearity measures{corr, factor analysis -- see below}\n",
    "- Sampling: bootstrap and cross-validation\n",
    "- Basic pre-model concepts: z-score, min-max normalizations\n",
    "- Models: \n",
    "    - high dim regressions: \n",
    "        - lasso \n",
    "        - lar\n",
    "    - logistics regression? Nah, it is for categorical(usually binary) predictive variable `mainly`\n",
    "    - Ensemble Models: Ensemble models use multiple machine learning algorithms to obtain better predictive performance than what could be obtained from one algorithm alone.\n",
    "    - Factor Analysis: Factor analysis is a method used to describe variability and aims to find independent latent variables.\n",
    "    - Random forsts: ?? -- > ensembling of multiple regression trees\n",
    "    - Generalized Linear Model (GLM) for Two Values ??"
   ],
   "metadata": {}
  },
  {
   "cell_type": "markdown",
   "source": [
    "## Pre-model steps\n",
    "- Normalization of numeric variables\n",
    "    - why?  some variables intrinsically influence the result more due to its larger value. But this doesn't necessarily mean it is more important as a predictor. So we normalize the data to bring all the variables to the same range. \n",
    "    - `z-score`\n",
    "    - `min-max`\n",
    "    - also [read](https://stats.stackexchange.com/questions/111467/is-it-necessary-to-scale-the-target-value-in-addition-to-scaling-features-for-re) for further explanation\n",
    "- Boxplot to see distribution of normalized data\n",
    "- PCA"
   ],
   "metadata": {}
  },
  {
   "cell_type": "code",
   "execution_count": 22,
   "source": [
    "## normalize min-max : droped State and County names\n",
    "# training data\n",
    "X_train_data_normalized=X_train_data.drop((['State','County']),axis=1)\n",
    "min_cols=np.min(X_train_data_normalized)\n",
    "max_cols=np.max(X_train_data_normalized)\n",
    "X_train_data_normalized = (X_train_data_normalized - min_cols)/(max_cols-min_cols)\n",
    "\n",
    "#testing data\n",
    "X_test_data_normalized=X_test_data.drop((['State','County']),axis=1)\n",
    "min_cols=np.min(X_test_data_normalized)\n",
    "max_cols=np.max(X_test_data_normalized)\n",
    "X_test_data_normalized = (X_test_data_normalized - min_cols)/(max_cols-min_cols)"
   ],
   "outputs": [],
   "metadata": {}
  },
  {
   "cell_type": "code",
   "execution_count": 69,
   "source": [
    "## boxplots\n",
    "plt.figure(figsize=(10,6))\n",
    "X_train_data_normalized.boxplot(column=list(X_train_data_normalized.columns))\n",
    "plt.title('box plot for numeric feature')\n",
    "plt.xlabel('feature-names')\n",
    "plt.show()"
   ],
   "outputs": [
    {
     "output_type": "display_data",
     "data": {
      "image/png": "[encoded data removed]",
      "text/plain": [
       "<Figure size 720x432 with 1 Axes>"
      ]
     },
     "metadata": {
      "needs_background": "light"
     }
    }
   ],
   "metadata": {}
  },
  {
   "cell_type": "markdown",
   "source": [
    "## PCA on training data"
   ],
   "metadata": {}
  },
  {
   "cell_type": "code",
   "execution_count": 89,
   "source": [
    "n=X_train_data_normalized.shape[1]\n",
    "pca=PCA(n_components=n)\n",
    "X_train_data_transformed=pca.fit_transform(X_train_data_normalized)\n",
    "X_test_data_transformed=pca.fit_transform(X_test_data_normalized)\n",
    "\n",
    "foo_ratio=pca.explained_variance_ratio_\n",
    "\n",
    "# to get cummulative\n",
    "var_ratio=[]\n",
    "for i in range(n):\n",
    "    var_ratio.append(100*sum(foo_ratio[0:i+1]))\n",
    "\n",
    "# plotting the variance explined curve (in %)\n",
    "sns.scatterplot(x=np.arange(n)+1,y=var_ratio)\n",
    "plt.title('variance explained by features')\n",
    "plt.xlabel('# of features')\n",
    "plt.ylabel('vaiance explained in %')\n",
    "plt.xticks(np.arange(n)+1)\n",
    "plt.show() # to avoid text outputs"
   ],
   "outputs": [
    {
     "output_type": "display_data",
     "data": {
      "image/png": "[encoded data removed]",
      "text/plain": [
       "<Figure size 432x288 with 1 Axes>"
      ]
     },
     "metadata": {
      "needs_background": "light"
     }
    }
   ],
   "metadata": {}
  },
  {
   "cell_type": "markdown",
   "source": [
    "- how pca could help in reducing dimension and working on tranformed data, it could be used since around `90%` variance is being explained by `9-10` features."
   ],
   "metadata": {}
  },
  {
   "cell_type": "code",
   "execution_count": 91,
   "source": [
    "model_lr=LinearRegression()\n",
    "model_lr.fit(X_train_data_normalized,y_train_data)\n",
    "\n",
    "print('==========================================')\n",
    "print('Model prediction without any modification: ',round(100*model_lr.score(X_test_data_normalized,y_test_data),2)) # veeeeeery bad -- .even on training data\n",
    "coeff_dict={}\n",
    "coeffs=model_lr.coef_.tolist()\n",
    "coeffs.append(model_lr.intercept_)\n",
    "col_names=X_train_data_normalized.columns.tolist()\n",
    "col_names.append('Intercept')\n",
    "for i in range(n):\n",
    "    coeff_dict[col_names[i]]=coeffs[i]\n",
    "print(coeff_dict)\n",
    "print('==========================================')\n",
    "\n",
    "'''print('Feature coefficients are: \\n',model_lr.coef_)\n",
    "print(X_train_data_normalized.columns)\n",
    "print('Intercept term is: ',model_lr.intercept_)'''\n",
    "\n",
    "print('THINGS ARE NOT LOOKING GREAT WITH SIMPLE LINEAR REGRESSION')"
   ],
   "outputs": [
    {
     "output_type": "stream",
     "name": "stdout",
     "text": [
      "==========================================\n",
      "Model prediction without any modification:  12.04\n",
      "{'IT_WholeRate': 3.3104979662286116, 'HighSchool_WholeRate': 5.794068515086227, 'MedianInc_WholeAvg': -18.063139882208596, 'republican_rate': -22.29026144323356, 'Segregation': 14.174742951831332, 'urban': -1.5975750923387475, 'racial_weighted_bias': 4.631006928156119, 'hesitancy': -12.594120385386047, 'HighSchool_Disparity': 11.381895514781359, 'IT_Disparity': -9.085009833158535, 'MedianInc_Disparity': 11.845903290816246, 'vehicle': 16.920836138060785, 'FacNumRate': -6.38400474969876, 'CaseRate': 27.48108328771798, 'Black_Prop': -18.128002796574513}\n",
      "==========================================\n",
      "THINGS ARE NOT LOOKING GREAT WITH SIMPLE LINEAR REGRESSION\n"
     ]
    }
   ],
   "metadata": {}
  }
 ],
 "metadata": {
  "orig_nbformat": 4,
  "language_info": {
   "name": "python",
   "version": "3.8.5",
   "mimetype": "text/x-python",
   "codemirror_mode": {
    "name": "ipython",
    "version": 3
   },
   "pygments_lexer": "ipython3",
   "nbconvert_exporter": "python",
   "file_extension": ".py"
  },
  "kernelspec": {
   "name": "python3",
   "display_name": "Python 3.8.5 64-bit ('base': conda)"
  },
  "interpreter": {
   "hash": "20d64e6457634db286bb2f57e568cdcaaf14f5fbfe37d467c75a4a80d0f4d780"
  }
 },
 "nbformat": 4,
 "nbformat_minor": 2
}